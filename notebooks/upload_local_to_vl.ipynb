{
 "cells": [
  {
   "cell_type": "code",
   "execution_count": 1,
   "metadata": {},
   "outputs": [
    {
     "data": {
      "text/plain": [
       "True"
      ]
     },
     "execution_count": 1,
     "metadata": {},
     "output_type": "execute_result"
    }
   ],
   "source": [
    "from vl_research.sdk.dataset_api import DatasetSession\n",
    "\n",
    "from dotenv import load_dotenv\n",
    "import os\n",
    "\n",
    "load_dotenv()"
   ]
  },
  {
   "cell_type": "code",
   "execution_count": 2,
   "metadata": {},
   "outputs": [],
   "source": [
    "session = DatasetSession(\n",
    "    user_id=os.getenv('VL_USER_ID'),\n",
    "    env=os.getenv('VL_ENV')\n",
    ")"
   ]
  },
  {
   "cell_type": "code",
   "execution_count": 3,
   "metadata": {},
   "outputs": [
    {
     "name": "stdout",
     "output_type": "stream",
     "text": [
      "Dataset url: https://app.visual-layer.com/dataset/cefb0546-4e37-11ef-ba5e-82778eab5391\n"
     ]
    }
   ],
   "source": [
    "response = session.create_dataset_archive('Bing Screped Images', '/media/dnth/CODE_DATASET2/bing_scraped_images/dataset.tar')"
   ]
  },
  {
   "cell_type": "code",
   "execution_count": 4,
   "metadata": {},
   "outputs": [],
   "source": [
    "response = session.get_dataset_info(dataset_id='cefb0546-4e37-11ef-ba5e-82778eab5391')"
   ]
  },
  {
   "cell_type": "code",
   "execution_count": 5,
   "metadata": {},
   "outputs": [
    {
     "data": {
      "text/plain": [
       "'{\"id\":\"cefb0546-4e37-11ef-ba5e-82778eab5391\",\"created_by\":\"ca8c1a84-72be-4974-a6c0-0a5305bc3cda\",\"owned_by\":\"Foo\",\"display_name\":\"Bing Screped Images\",\"description\":\"\",\"preview_uri\":\"https://d2iycffepdu1yp.cloudfront.net/cefb0546-4e37-11ef-ba5e-82778eab5391/0/0e7c44ce-7cea-423f-926d-35e6c5158bee.jpg\",\"source_type\":\"UPLOAD\",\"source_uri\":\"s3://production-uploaded-archive-files/cefb0546-4e37-11ef-ba5e-82778eab5391/dataset.tar\",\"created_at\":\"2024-07-30T05:51:47.450435\",\"filename\":\"dataset.tar\",\"sample\":null,\"status\":\"READY\",\"fatal_error_msg\":null,\"progress\":100,\"score\":0,\"stats\":[{\"severity\":0,\"n_images\":0,\"n_images_display_value\":0,\"severity_display_name\":\"\",\"percentage\":0},{\"severity\":1,\"n_images\":0,\"n_images_display_value\":0,\"severity_display_name\":\"\",\"percentage\":0},{\"severity\":2,\"n_images\":0,\"n_images_display_value\":0,\"severity_display_name\":\"\",\"percentage\":0}],\"n_images\":399,\"n_objects\":0,\"n_clusters\":-1,\"n_videos\":0,\"n_video_frames\":0,\"size_bytes\":102821543,\"deleted\":false,\"pipeline_commit_id\":\"2.16.2\",\"size_display_value\":\"98MB\",\"similarity_data\":false,\"thresholds\":[\"0\",\"1\"],\"media_embeddings\":true,\"media_embeddings_cosine_distance\":true}'"
      ]
     },
     "execution_count": 5,
     "metadata": {},
     "output_type": "execute_result"
    }
   ],
   "source": [
    "response.text"
   ]
  },
  {
   "cell_type": "code",
   "execution_count": null,
   "metadata": {},
   "outputs": [],
   "source": []
  }
 ],
 "metadata": {
  "kernelspec": {
   "display_name": "vl-hf-workflow",
   "language": "python",
   "name": "python3"
  },
  "language_info": {
   "codemirror_mode": {
    "name": "ipython",
    "version": 3
   },
   "file_extension": ".py",
   "mimetype": "text/x-python",
   "name": "python",
   "nbconvert_exporter": "python",
   "pygments_lexer": "ipython3",
   "version": "3.11.9"
  }
 },
 "nbformat": 4,
 "nbformat_minor": 2
}
