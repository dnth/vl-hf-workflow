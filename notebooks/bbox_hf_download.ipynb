{
 "cells": [
  {
   "cell_type": "code",
   "execution_count": 1,
   "metadata": {},
   "outputs": [
    {
     "name": "stderr",
     "output_type": "stream",
     "text": [
      "\u001b[32m2024-08-07 21:44:07.359\u001b[0m | \u001b[1mINFO    \u001b[0m | \u001b[36mvlhf.hugging_face\u001b[0m:\u001b[36m__init__\u001b[0m:\u001b[36m84\u001b[0m - \u001b[1mHugging Face session created\u001b[0m\n",
      "\u001b[32m2024-08-07 21:44:07.360\u001b[0m | \u001b[1mINFO    \u001b[0m | \u001b[36mvlhf.visual_layer\u001b[0m:\u001b[36m__init__\u001b[0m:\u001b[36m20\u001b[0m - \u001b[1mVisual Layer session created\u001b[0m\n"
     ]
    }
   ],
   "source": [
    "from vlhf.hugging_face import HuggingFace\n",
    "from vlhf.visual_layer import VisualLayer\n",
    "import os\n",
    "from dotenv import load_dotenv\n",
    "\n",
    "# Authentication\n",
    "load_dotenv()\n",
    "\n",
    "HF_TOKEN = os.getenv(\"HF_TOKEN\")\n",
    "VL_USER_ID = os.getenv(\"VL_USER_ID\")\n",
    "VL_ENV = os.getenv(\"VL_ENV\")\n",
    "\n",
    "hf = HuggingFace(HF_TOKEN)\n",
    "vl = VisualLayer(VL_USER_ID, VL_ENV)"
   ]
  },
  {
   "cell_type": "code",
   "execution_count": null,
   "metadata": {},
   "outputs": [],
   "source": [
    "# hf.download_dataset(\"keremberke/german-traffic-sign-detection\", name=\"full\", image_key=\"image\", bbox_key=\"objects\", bbox_label_names=['animals', 'construction', 'cycles crossing', 'danger', 'no entry', 'pedestrian crossing', 'school crossing', 'snow', 'stop', 'bend', 'bend left', 'bend right', 'give way', 'go left', 'go left or straight', 'go right', 'go right or straight', 'go straight', 'keep left', 'keep right', 'no overtaking', 'no overtaking -trucks-', 'no traffic both ways', 'no trucks', 'priority at next intersection', 'priority road', 'restriction ends', 'restriction ends -overtaking -trucks--', 'restriction ends -overtaking-', 'restriction ends 80', 'road narrows', 'roundabout', 'slippery road', 'speed limit 100', 'speed limit 120', 'speed limit 20', 'speed limit 30', 'speed limit 50', 'speed limit 60', 'speed limit 70', 'speed limit 80', 'traffic signal', 'uneven road'])"
   ]
  },
  {
   "cell_type": "code",
   "execution_count": null,
   "metadata": {},
   "outputs": [],
   "source": [
    "# hf.download_dataset(\"keremberke/csgo-object-detection\", name=\"full\", \n",
    "#                     image_key=\"image\", \n",
    "#                     bbox_key=\"objects\", \n",
    "#                     bbox_label_names=['ct', 'cthead', 't', 'thead']\n",
    "# )"
   ]
  },
  {
   "cell_type": "code",
   "execution_count": null,
   "metadata": {},
   "outputs": [],
   "source": [
    "# hf.download_dataset(\"rishitdagli/cppe-5\", \n",
    "#                     image_key=\"image\", \n",
    "#                     bbox_key=\"objects\", \n",
    "#                     bbox_label_names=[\"coverall\", \"face_shield\", \"gloves\", \"goggles\", \"mask\"])"
   ]
  },
  {
   "cell_type": "code",
   "execution_count": null,
   "metadata": {},
   "outputs": [],
   "source": [
    "# hf.download_dataset(\"Francesco/apples-fvpl5\", \n",
    "#                     image_key=\"image\", \n",
    "#                     bbox_key=\"objects\", \n",
    "#                     bbox_label_names=[\"apple\", \"damaged_apple\"]\n",
    "# )"
   ]
  },
  {
   "cell_type": "code",
   "execution_count": null,
   "metadata": {},
   "outputs": [],
   "source": [
    "# hf.download_dataset(\"Francesco/weed-crop-aerial\", \n",
    "#                     image_key=\"image\", \n",
    "#                     bbox_key=\"objects\", \n",
    "#                     bbox_label_names=[\"crop\", \"weed\"]\n",
    "# )"
   ]
  },
  {
   "cell_type": "code",
   "execution_count": 5,
   "metadata": {},
   "outputs": [],
   "source": [
    "# hf.download_dataset(\"Francesco/valentines-chocolate\", \n",
    "#                     image_key=\"image\", \n",
    "#                     bbox_key=\"objects\", \n",
    "#                     bbox_label_names= [\n",
    "#                         \"sees-dark-almond-nougat\",\n",
    "#                         \"sees-dark-almonds\",\n",
    "#                         \"sees-dark-bordeaux\",\n",
    "#                         \"sees-dark-caramel-patties\",\n",
    "#                         \"sees-dark-chocolate-buttercream\",\n",
    "#                         \"sees-dark-marzipan\",\n",
    "#                         \"sees-dark-normandie\",\n",
    "#                         \"sees-dark-scotchmallow\",\n",
    "#                         \"sees-dark-walnut-square\",\n",
    "#                         \"sees-milk-almond-caramel\",\n",
    "#                         \"sees-milk-almonds\",\n",
    "#                         \"sees-milk-beverly\",\n",
    "#                         \"sees-milk-bordeaux\",\n",
    "#                         \"sees-milk-butterscotch-square\",\n",
    "#                         \"sees-milk-california-brittle\",\n",
    "#                         \"sees-milk-chelsea\",\n",
    "#                         \"sees-milk-chocolate-buttercream\",\n",
    "#                         \"sees-milk-coconut-cream\",\n",
    "#                         \"sees-milk-mayfair\",\n",
    "#                         \"sees-milk-mocha\",\n",
    "#                         \"sees-milk-molasses-chips\",\n",
    "#                         \"sees-milk-rum-nougat\"]\n",
    "#                     )"
   ]
  },
  {
   "cell_type": "code",
   "execution_count": 7,
   "metadata": {},
   "outputs": [
    {
     "name": "stderr",
     "output_type": "stream",
     "text": [
      "\u001b[32m2024-08-07 21:50:51.268\u001b[0m | \u001b[1mINFO    \u001b[0m | \u001b[36mvlhf.hugging_face\u001b[0m:\u001b[36mdownload_dataset\u001b[0m:\u001b[36m130\u001b[0m - \u001b[1mDownloading dataset keremberke/valorant-object-detection and saving to local path keremberke/valorant-object-detection\u001b[0m\n",
      "\u001b[32m2024-08-07 21:50:55.181\u001b[0m | \u001b[1mINFO    \u001b[0m | \u001b[36mvlhf.hugging_face\u001b[0m:\u001b[36mdownload_dataset\u001b[0m:\u001b[36m136\u001b[0m - \u001b[1mAdding image filename to dataset\u001b[0m\n"
     ]
    },
    {
     "data": {
      "application/vnd.jupyter.widget-view+json": {
       "model_id": "4ea9735655934df4b25224e423870962",
       "version_major": 2,
       "version_minor": 0
      },
      "text/plain": [
       "Map:   0%|          | 0/9898 [00:00<?, ? examples/s]"
      ]
     },
     "metadata": {},
     "output_type": "display_data"
    },
    {
     "name": "stderr",
     "output_type": "stream",
     "text": [
      "\u001b[32m2024-08-07 21:50:56.801\u001b[0m | \u001b[1mINFO    \u001b[0m | \u001b[36mvlhf.hugging_face\u001b[0m:\u001b[36mdownload_dataset\u001b[0m:\u001b[36m141\u001b[0m - \u001b[1mAdding bbox label name to dataset\u001b[0m\n",
      "\u001b[32m2024-08-07 21:51:02.304\u001b[0m | \u001b[1mINFO    \u001b[0m | \u001b[36mvlhf.hugging_face\u001b[0m:\u001b[36mis_one_indexed\u001b[0m:\u001b[36m35\u001b[0m - \u001b[1mDataset appears to be 0-indexed\u001b[0m\n"
     ]
    },
    {
     "data": {
      "application/vnd.jupyter.widget-view+json": {
       "model_id": "d73489ab98c440659e0e51de4381c31b",
       "version_major": 2,
       "version_minor": 0
      },
      "text/plain": [
       "Map:   0%|          | 0/9898 [00:00<?, ? examples/s]"
      ]
     },
     "metadata": {},
     "output_type": "display_data"
    },
    {
     "data": {
      "application/vnd.jupyter.widget-view+json": {
       "model_id": "e6701e0be1dd4622a25b22b46943b7ea",
       "version_major": 2,
       "version_minor": 0
      },
      "text/plain": [
       "Saving images:   0%|          | 0/9898 [00:00<?, ?it/s]"
      ]
     },
     "metadata": {},
     "output_type": "display_data"
    }
   ],
   "source": [
    "hf.download_dataset(\"keremberke/valorant-object-detection\", name=\"full\",\n",
    "                    image_key=\"image\", \n",
    "                    bbox_key=\"objects\", \n",
    "                    bbox_label_names=['dropped spike', 'enemy', 'planted spike', 'teammate']\n",
    ")"
   ]
  },
  {
   "cell_type": "code",
   "execution_count": 8,
   "metadata": {},
   "outputs": [
    {
     "data": {
      "text/plain": [
       "{'image_id': 3947,\n",
       " 'image': <PIL.JpegImagePlugin.JpegImageFile image mode=RGB size=416x416>,\n",
       " 'width': 416,\n",
       " 'height': 416,\n",
       " 'objects': {'area': [3718],\n",
       "  'bbox': [[147.0, 201.0, 33.5, 111.0]],\n",
       "  'category': [1],\n",
       "  'category_name': ['enemy'],\n",
       "  'id': [4083]},\n",
       " 'image_filename': 'reyna00741_jpg.rf.bf5171ea6cb5f480fd9611ce27194d5a.jpg'}"
      ]
     },
     "execution_count": 8,
     "metadata": {},
     "output_type": "execute_result"
    }
   ],
   "source": [
    "hf.dataset[0]"
   ]
  },
  {
   "cell_type": "code",
   "execution_count": 9,
   "metadata": {},
   "outputs": [
    {
     "name": "stderr",
     "output_type": "stream",
     "text": [
      "\u001b[32m2024-08-07 21:51:24.580\u001b[0m | \u001b[1mINFO    \u001b[0m | \u001b[36mvlhf.hugging_face\u001b[0m:\u001b[36mto_vl\u001b[0m:\u001b[36m202\u001b[0m - \u001b[1mPreparing upload to Visual Layer\u001b[0m\n",
      "\u001b[32m2024-08-07 21:51:31.118\u001b[0m | \u001b[1mINFO    \u001b[0m | \u001b[36mvlhf.visual_layer\u001b[0m:\u001b[36mcreate_dataset\u001b[0m:\u001b[36m24\u001b[0m - \u001b[1mCreating dataset: valorant-object-detection\u001b[0m\n"
     ]
    },
    {
     "name": "stdout",
     "output_type": "stream",
     "text": [
      "Dataset url: https://app.visual-layer.com/dataset/273b1d8a-54c4-11ef-bd7b-dacb63a3a95e\n"
     ]
    },
    {
     "name": "stderr",
     "output_type": "stream",
     "text": [
      "\u001b[32m2024-08-07 21:52:13.494\u001b[0m | \u001b[1mINFO    \u001b[0m | \u001b[36mvlhf.visual_layer\u001b[0m:\u001b[36mcreate_dataset\u001b[0m:\u001b[36m26\u001b[0m - \u001b[1mDataset valorant-object-detection successfully created in Visual Layer!\u001b[0m\n"
     ]
    }
   ],
   "source": [
    "hf.to_vl(vl_session=vl)"
   ]
  },
  {
   "cell_type": "code",
   "execution_count": null,
   "metadata": {},
   "outputs": [],
   "source": [
    "! tar -xvf /home/dnth/Desktop/vl-hf-workflow/notebooks/saved_images/keremberke/csgo-object-detection.tar -C /home/dnth/Desktop/vl-hf-workflow/notebooks/saved_images/keremberke"
   ]
  },
  {
   "cell_type": "code",
   "execution_count": null,
   "metadata": {},
   "outputs": [],
   "source": [
    "import pandas as pd\n",
    "\n",
    "df = pd.read_parquet(\"saved_images/keremberke/object_annotations.parquet\")"
   ]
  },
  {
   "cell_type": "code",
   "execution_count": null,
   "metadata": {},
   "outputs": [],
   "source": [
    "df"
   ]
  },
  {
   "cell_type": "code",
   "execution_count": null,
   "metadata": {},
   "outputs": [],
   "source": [
    "# plot the bounding boxes from the dataframe\n",
    "from PIL import Image, ImageDraw\n",
    "import matplotlib.pyplot as plt\n",
    "\n",
    "def plot_bounding_boxes_from_df(df):\n",
    "    for filename, group in df.groupby('filename'):\n",
    "        image = Image.open(f\"saved_images/keremberke/{filename}\")\n",
    "        draw = ImageDraw.Draw(image)\n",
    "        \n",
    "        for i, row in group.iterrows():\n",
    "            x, y, w, h = row['col_x'], row['row_y'], row['width'], row['height']\n",
    "            label = row['label']\n",
    "            draw.rectangle([x, y, x+w, y+h], outline=\"red\", width=3)\n",
    "            left, top, right, bottom = draw.textbbox((x, y-10), str(label))\n",
    "            draw.rectangle((left-5, top-5, right+5, bottom+5), fill=\"red\")\n",
    "            draw.text((x, y-10), str(label), fill=\"white\")\n",
    "\n",
    "        \n",
    "        plt.figure(figsize=(12, 8))\n",
    "        plt.imshow(image)\n",
    "        plt.axis('off')\n",
    "        plt.title(f\"Image: {filename}\")\n",
    "        plt.show()"
   ]
  },
  {
   "cell_type": "code",
   "execution_count": null,
   "metadata": {},
   "outputs": [],
   "source": [
    "plot_bounding_boxes_from_df(df.sample(5))"
   ]
  },
  {
   "cell_type": "code",
   "execution_count": null,
   "metadata": {},
   "outputs": [],
   "source": []
  }
 ],
 "metadata": {
  "kernelspec": {
   "display_name": "vl-hf-workflow",
   "language": "python",
   "name": "python3"
  },
  "language_info": {
   "codemirror_mode": {
    "name": "ipython",
    "version": 3
   },
   "file_extension": ".py",
   "mimetype": "text/x-python",
   "name": "python",
   "nbconvert_exporter": "python",
   "pygments_lexer": "ipython3",
   "version": "3.11.9"
  }
 },
 "nbformat": 4,
 "nbformat_minor": 2
}
