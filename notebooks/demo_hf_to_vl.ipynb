{
 "cells": [
  {
   "cell_type": "code",
   "execution_count": 1,
   "id": "874dadf8-74a8-4e29-b5a1-cf5e7eec7e42",
   "metadata": {},
   "outputs": [],
   "source": [
    "from vlhf.hugging_face import HuggingFace\n",
    "from vlhf.visual_layer import VisualLayer"
   ]
  },
  {
   "cell_type": "code",
   "execution_count": 2,
   "id": "1f22f83f-2635-4007-b6d3-b609b83838c1",
   "metadata": {},
   "outputs": [],
   "source": [
    "import os\n",
    "from dotenv import load_dotenv\n",
    "\n",
    "# Authentication\n",
    "load_dotenv()\n",
    "\n",
    "HF_TOKEN = os.getenv(\"HF_TOKEN\")\n",
    "VL_USER_ID = os.getenv(\"VL_USER_ID\")\n",
    "VL_ENV = os.getenv(\"VL_ENV\")\n",
    "VL_PG_URI = os.getenv(\"VL_PG_URI\")"
   ]
  },
  {
   "cell_type": "code",
   "execution_count": 3,
   "id": "e511714d",
   "metadata": {},
   "outputs": [
    {
     "name": "stderr",
     "output_type": "stream",
     "text": [
      "\u001b[32m2024-08-08 17:48:04.921\u001b[0m | \u001b[1mINFO    \u001b[0m | \u001b[36mvlhf.hugging_face\u001b[0m:\u001b[36m__init__\u001b[0m:\u001b[36m84\u001b[0m - \u001b[1mHugging Face session created\u001b[0m\n",
      "\u001b[32m2024-08-08 17:48:04.923\u001b[0m | \u001b[1mINFO    \u001b[0m | \u001b[36mvlhf.visual_layer\u001b[0m:\u001b[36m__init__\u001b[0m:\u001b[36m23\u001b[0m - \u001b[1mVisual Layer session created\u001b[0m\n"
     ]
    }
   ],
   "source": [
    "hf = HuggingFace(HF_TOKEN)\n",
    "vl = VisualLayer(VL_USER_ID, VL_ENV, VL_PG_URI)"
   ]
  },
  {
   "cell_type": "code",
   "execution_count": 4,
   "id": "40db43b3-3f26-4e58-8e37-ae78f2217ff7",
   "metadata": {},
   "outputs": [
    {
     "data": {
      "text/html": [
       "<div>\n",
       "<style scoped>\n",
       "    .dataframe tbody tr th:only-of-type {\n",
       "        vertical-align: middle;\n",
       "    }\n",
       "\n",
       "    .dataframe tbody tr th {\n",
       "        vertical-align: top;\n",
       "    }\n",
       "\n",
       "    .dataframe thead th {\n",
       "        text-align: right;\n",
       "    }\n",
       "</style>\n",
       "<table border=\"1\" class=\"dataframe\">\n",
       "  <thead>\n",
       "    <tr style=\"text-align: right;\">\n",
       "      <th></th>\n",
       "      <th>id</th>\n",
       "      <th>author</th>\n",
       "      <th>sha</th>\n",
       "      <th>created_at</th>\n",
       "      <th>last_modified</th>\n",
       "      <th>private</th>\n",
       "      <th>gated</th>\n",
       "      <th>disabled</th>\n",
       "      <th>downloads</th>\n",
       "      <th>likes</th>\n",
       "      <th>paperswithcode_id</th>\n",
       "      <th>tags</th>\n",
       "    </tr>\n",
       "  </thead>\n",
       "  <tbody>\n",
       "    <tr>\n",
       "      <th>0</th>\n",
       "      <td>nelorth/oxford-flowers</td>\n",
       "      <td>nelorth</td>\n",
       "      <td>a37b1891609c0376fa81eced756e7863e1bd873b</td>\n",
       "      <td>2022-12-11 02:14:19+00:00</td>\n",
       "      <td>2022-12-11 02:38:31+00:00</td>\n",
       "      <td>False</td>\n",
       "      <td>False</td>\n",
       "      <td>False</td>\n",
       "      <td>2231</td>\n",
       "      <td>12</td>\n",
       "      <td>None</td>\n",
       "      <td>task_categories:image-classification, task_cat...</td>\n",
       "    </tr>\n",
       "    <tr>\n",
       "      <th>1</th>\n",
       "      <td>Ligeng-Zhu/flowers</td>\n",
       "      <td>Ligeng-Zhu</td>\n",
       "      <td>e0da96dd86cd0a6ec5bd64e487a54aac71b2af6c</td>\n",
       "      <td>2023-04-16 20:45:02+00:00</td>\n",
       "      <td>2023-04-16 20:45:45+00:00</td>\n",
       "      <td>False</td>\n",
       "      <td>False</td>\n",
       "      <td>False</td>\n",
       "      <td>1</td>\n",
       "      <td>0</td>\n",
       "      <td>None</td>\n",
       "      <td>task_categories:image-classification, region:u...</td>\n",
       "    </tr>\n",
       "    <tr>\n",
       "      <th>2</th>\n",
       "      <td>DeadPixels/DPhi_Sprint_25_Flowers</td>\n",
       "      <td>DeadPixels</td>\n",
       "      <td>875ccdf54f34db297cf7e717042e9638766787a3</td>\n",
       "      <td>2023-04-29 10:25:36+00:00</td>\n",
       "      <td>2023-04-29 10:34:03+00:00</td>\n",
       "      <td>False</td>\n",
       "      <td>False</td>\n",
       "      <td>False</td>\n",
       "      <td>7</td>\n",
       "      <td>0</td>\n",
       "      <td>None</td>\n",
       "      <td>task_categories:image-classification, license:...</td>\n",
       "    </tr>\n",
       "    <tr>\n",
       "      <th>3</th>\n",
       "      <td>lilobe8614/oxford-flowers</td>\n",
       "      <td>lilobe8614</td>\n",
       "      <td>6e6ccc44c771f2313f44d4cb411374e2d4fe561c</td>\n",
       "      <td>2023-10-22 19:24:49+00:00</td>\n",
       "      <td>2023-10-22 19:35:26+00:00</td>\n",
       "      <td>False</td>\n",
       "      <td>auto</td>\n",
       "      <td>False</td>\n",
       "      <td>0</td>\n",
       "      <td>0</td>\n",
       "      <td>None</td>\n",
       "      <td>task_categories:image-classification, task_cat...</td>\n",
       "    </tr>\n",
       "    <tr>\n",
       "      <th>4</th>\n",
       "      <td>nroggendorff/flowers</td>\n",
       "      <td>nroggendorff</td>\n",
       "      <td>86ed7bf6ddaa90b8a2fefc0e76dedc75528f4ec5</td>\n",
       "      <td>2024-04-19 20:39:22+00:00</td>\n",
       "      <td>2024-05-24 18:55:00+00:00</td>\n",
       "      <td>False</td>\n",
       "      <td>False</td>\n",
       "      <td>False</td>\n",
       "      <td>7</td>\n",
       "      <td>2</td>\n",
       "      <td>None</td>\n",
       "      <td>task_categories:image-classification, task_cat...</td>\n",
       "    </tr>\n",
       "  </tbody>\n",
       "</table>\n",
       "</div>"
      ],
      "text/plain": [
       "                                  id        author  \\\n",
       "0             nelorth/oxford-flowers       nelorth   \n",
       "1                 Ligeng-Zhu/flowers    Ligeng-Zhu   \n",
       "2  DeadPixels/DPhi_Sprint_25_Flowers    DeadPixels   \n",
       "3          lilobe8614/oxford-flowers    lilobe8614   \n",
       "4               nroggendorff/flowers  nroggendorff   \n",
       "\n",
       "                                        sha                created_at  \\\n",
       "0  a37b1891609c0376fa81eced756e7863e1bd873b 2022-12-11 02:14:19+00:00   \n",
       "1  e0da96dd86cd0a6ec5bd64e487a54aac71b2af6c 2023-04-16 20:45:02+00:00   \n",
       "2  875ccdf54f34db297cf7e717042e9638766787a3 2023-04-29 10:25:36+00:00   \n",
       "3  6e6ccc44c771f2313f44d4cb411374e2d4fe561c 2023-10-22 19:24:49+00:00   \n",
       "4  86ed7bf6ddaa90b8a2fefc0e76dedc75528f4ec5 2024-04-19 20:39:22+00:00   \n",
       "\n",
       "              last_modified  private  gated  disabled  downloads  likes  \\\n",
       "0 2022-12-11 02:38:31+00:00    False  False     False       2231     12   \n",
       "1 2023-04-16 20:45:45+00:00    False  False     False          1      0   \n",
       "2 2023-04-29 10:34:03+00:00    False  False     False          7      0   \n",
       "3 2023-10-22 19:35:26+00:00    False   auto     False          0      0   \n",
       "4 2024-05-24 18:55:00+00:00    False  False     False          7      2   \n",
       "\n",
       "  paperswithcode_id                                               tags  \n",
       "0              None  task_categories:image-classification, task_cat...  \n",
       "1              None  task_categories:image-classification, region:u...  \n",
       "2              None  task_categories:image-classification, license:...  \n",
       "3              None  task_categories:image-classification, task_cat...  \n",
       "4              None  task_categories:image-classification, task_cat...  "
      ]
     },
     "execution_count": 4,
     "metadata": {},
     "output_type": "execute_result"
    }
   ],
   "source": [
    "hf.list_datasets(search=\"flowers\")"
   ]
  },
  {
   "cell_type": "code",
   "execution_count": 5,
   "id": "aa63c8b4-3f12-4c36-b8ff-5f4eeddb7107",
   "metadata": {},
   "outputs": [
    {
     "name": "stderr",
     "output_type": "stream",
     "text": [
      "\u001b[32m2024-08-08 17:48:05.233\u001b[0m | \u001b[1mINFO    \u001b[0m | \u001b[36mvlhf.hugging_face\u001b[0m:\u001b[36mdownload_dataset\u001b[0m:\u001b[36m130\u001b[0m - \u001b[1mDownloading dataset DeadPixels/DPhi_Sprint_25_Flowers and saving to local path DeadPixels/DPhi_Sprint_25_Flowers\u001b[0m\n",
      "\u001b[32m2024-08-08 17:48:11.151\u001b[0m | \u001b[1mINFO    \u001b[0m | \u001b[36mvlhf.hugging_face\u001b[0m:\u001b[36mdownload_dataset\u001b[0m:\u001b[36m136\u001b[0m - \u001b[1mAdding image filename to dataset\u001b[0m\n"
     ]
    },
    {
     "data": {
      "application/vnd.jupyter.widget-view+json": {
       "model_id": "41cae933e05943df911222211f4bc1f8",
       "version_major": 2,
       "version_minor": 0
      },
      "text/plain": [
       "Map:   0%|          | 0/4317 [00:00<?, ? examples/s]"
      ]
     },
     "metadata": {},
     "output_type": "display_data"
    },
    {
     "data": {
      "application/vnd.jupyter.widget-view+json": {
       "model_id": "92e49e86a45f4292b90db27aa4f9b038",
       "version_major": 2,
       "version_minor": 0
      },
      "text/plain": [
       "Saving images:   0%|          | 0/4317 [00:00<?, ?it/s]"
      ]
     },
     "metadata": {},
     "output_type": "display_data"
    }
   ],
   "source": [
    "hf.download_dataset(\"DeadPixels/DPhi_Sprint_25_Flowers\", image_key=\"image\", label_key=\"label\")"
   ]
  },
  {
   "cell_type": "code",
   "execution_count": 6,
   "id": "ce55b4da-11a6-4f47-a6d1-c073a7d6d02e",
   "metadata": {},
   "outputs": [
    {
     "name": "stderr",
     "output_type": "stream",
     "text": [
      "\u001b[32m2024-08-08 17:48:16.562\u001b[0m | \u001b[1mINFO    \u001b[0m | \u001b[36mvlhf.hugging_face\u001b[0m:\u001b[36mto_vl\u001b[0m:\u001b[36m202\u001b[0m - \u001b[1mPreparing upload to Visual Layer\u001b[0m\n",
      "\u001b[32m2024-08-08 17:48:17.098\u001b[0m | \u001b[1mINFO    \u001b[0m | \u001b[36mvlhf.visual_layer\u001b[0m:\u001b[36mcreate_dataset\u001b[0m:\u001b[36m27\u001b[0m - \u001b[1mCreating dataset: DPhi_Sprint_25_Flowers\u001b[0m\n"
     ]
    },
    {
     "name": "stdout",
     "output_type": "stream",
     "text": [
      "Dataset url: https://app.visual-layer.com/dataset/56ec9c64-556b-11ef-aab9-42e5998eb94f\n"
     ]
    },
    {
     "name": "stderr",
     "output_type": "stream",
     "text": [
      "\u001b[32m2024-08-08 17:48:39.200\u001b[0m | \u001b[1mINFO    \u001b[0m | \u001b[36mvlhf.visual_layer\u001b[0m:\u001b[36mcreate_dataset\u001b[0m:\u001b[36m29\u001b[0m - \u001b[1mDataset DPhi_Sprint_25_Flowers successfully created in Visual Layer!\u001b[0m\n"
     ]
    }
   ],
   "source": [
    "hf.to_vl(vl_session=vl)"
   ]
  },
  {
   "cell_type": "code",
   "execution_count": null,
   "id": "1925490f-fd57-4ab8-9538-3305e827e8d4",
   "metadata": {},
   "outputs": [],
   "source": []
  }
 ],
 "metadata": {
  "kernelspec": {
   "display_name": "Python 3 (ipykernel)",
   "language": "python",
   "name": "python3"
  },
  "language_info": {
   "codemirror_mode": {
    "name": "ipython",
    "version": 3
   },
   "file_extension": ".py",
   "mimetype": "text/x-python",
   "name": "python",
   "nbconvert_exporter": "python",
   "pygments_lexer": "ipython3",
   "version": "3.11.9"
  }
 },
 "nbformat": 4,
 "nbformat_minor": 5
}
