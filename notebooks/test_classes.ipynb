{
 "cells": [
  {
   "cell_type": "code",
   "execution_count": 9,
   "metadata": {},
   "outputs": [],
   "source": [
    "from vlhf.hugging_face import HuggingFace\n",
    "from vlhf.visual_layer import VisualLayer\n",
    "\n",
    "from dotenv import load_dotenv\n",
    "import os"
   ]
  },
  {
   "cell_type": "code",
   "execution_count": 10,
   "metadata": {},
   "outputs": [],
   "source": [
    "# Authentication\n",
    "load_dotenv()\n",
    "HF_TOKEN = os.getenv(\"HF_TOKEN\")\n",
    "\n",
    "VL_USER_ID = os.getenv(\"VL_USER_ID\")\n",
    "VL_ENV = os.getenv(\"VL_ENV\")\n",
    "\n",
    "hf = HuggingFace(HF_TOKEN)\n",
    "vl = VisualLayer(VL_USER_ID, VL_ENV)"
   ]
  },
  {
   "cell_type": "code",
   "execution_count": 6,
   "metadata": {},
   "outputs": [
    {
     "data": {
      "text/html": [
       "<div>\n",
       "<style scoped>\n",
       "    .dataframe tbody tr th:only-of-type {\n",
       "        vertical-align: middle;\n",
       "    }\n",
       "\n",
       "    .dataframe tbody tr th {\n",
       "        vertical-align: top;\n",
       "    }\n",
       "\n",
       "    .dataframe thead th {\n",
       "        text-align: right;\n",
       "    }\n",
       "</style>\n",
       "<table border=\"1\" class=\"dataframe\">\n",
       "  <thead>\n",
       "    <tr style=\"text-align: right;\">\n",
       "      <th></th>\n",
       "      <th>id</th>\n",
       "      <th>author</th>\n",
       "      <th>sha</th>\n",
       "      <th>created_at</th>\n",
       "      <th>last_modified</th>\n",
       "      <th>private</th>\n",
       "      <th>gated</th>\n",
       "      <th>disabled</th>\n",
       "      <th>downloads</th>\n",
       "      <th>likes</th>\n",
       "      <th>paperswithcode_id</th>\n",
       "      <th>tags</th>\n",
       "    </tr>\n",
       "  </thead>\n",
       "  <tbody>\n",
       "    <tr>\n",
       "      <th>0</th>\n",
       "      <td>visual-layer/oxford-iiit-pet-vl-enriched</td>\n",
       "      <td>visual-layer</td>\n",
       "      <td>b4a703833ecb83ba0e96cbc638f7df7ff3f45ba5</td>\n",
       "      <td>2024-07-04 06:15:06+00:00</td>\n",
       "      <td>2024-07-29 00:51:33+00:00</td>\n",
       "      <td>False</td>\n",
       "      <td>False</td>\n",
       "      <td>False</td>\n",
       "      <td>290</td>\n",
       "      <td>4</td>\n",
       "      <td>None</td>\n",
       "      <td>task_categories:image-classification, task_cat...</td>\n",
       "    </tr>\n",
       "    <tr>\n",
       "      <th>1</th>\n",
       "      <td>visual-layer/imagenet-1k-vl-enriched</td>\n",
       "      <td>visual-layer</td>\n",
       "      <td>45107c4f5a96e9c2e3d6be3d0a3ca2327b5de3e3</td>\n",
       "      <td>2024-07-09 08:56:33+00:00</td>\n",
       "      <td>2024-07-29 00:52:33+00:00</td>\n",
       "      <td>False</td>\n",
       "      <td>False</td>\n",
       "      <td>False</td>\n",
       "      <td>343</td>\n",
       "      <td>6</td>\n",
       "      <td>None</td>\n",
       "      <td>task_categories:object-detection, task_categor...</td>\n",
       "    </tr>\n",
       "    <tr>\n",
       "      <th>2</th>\n",
       "      <td>juletxara/visual-spatial-reasoning</td>\n",
       "      <td>juletxara</td>\n",
       "      <td>a07bec7a6b1cbf4b5ca3a68bf744e854982b72bd</td>\n",
       "      <td>2022-08-11 12:56:58+00:00</td>\n",
       "      <td>2022-08-11 20:11:21+00:00</td>\n",
       "      <td>False</td>\n",
       "      <td>False</td>\n",
       "      <td>False</td>\n",
       "      <td>6</td>\n",
       "      <td>4</td>\n",
       "      <td>None</td>\n",
       "      <td>task_categories:image-classification, annotati...</td>\n",
       "    </tr>\n",
       "    <tr>\n",
       "      <th>3</th>\n",
       "      <td>albertvillanova/visual-spatial-reasoning</td>\n",
       "      <td>albertvillanova</td>\n",
       "      <td>cbe3e224f1ae99617e6188679175ff4a9751a1e3</td>\n",
       "      <td>2022-12-14 11:31:30+00:00</td>\n",
       "      <td>2022-12-14 11:55:48+00:00</td>\n",
       "      <td>False</td>\n",
       "      <td>False</td>\n",
       "      <td>False</td>\n",
       "      <td>0</td>\n",
       "      <td>4</td>\n",
       "      <td>None</td>\n",
       "      <td>task_categories:image-classification, annotati...</td>\n",
       "    </tr>\n",
       "    <tr>\n",
       "      <th>4</th>\n",
       "      <td>FastJobs/Visual_Emotional_Analysis</td>\n",
       "      <td>FastJobs</td>\n",
       "      <td>31541d6df6c2f5e0b29f0d434327cf02defa83c7</td>\n",
       "      <td>2023-03-03 06:23:19+00:00</td>\n",
       "      <td>2023-03-13 06:31:17+00:00</td>\n",
       "      <td>False</td>\n",
       "      <td>False</td>\n",
       "      <td>False</td>\n",
       "      <td>277</td>\n",
       "      <td>10</td>\n",
       "      <td>None</td>\n",
       "      <td>task_categories:image-classification, language...</td>\n",
       "    </tr>\n",
       "    <tr>\n",
       "      <th>5</th>\n",
       "      <td>alitourani/moviefeats_visual</td>\n",
       "      <td>alitourani</td>\n",
       "      <td>ba9c47d7784a83be0c213eee52bed0ea9139deef</td>\n",
       "      <td>2024-05-10 17:16:19+00:00</td>\n",
       "      <td>2024-05-21 20:26:45+00:00</td>\n",
       "      <td>False</td>\n",
       "      <td>False</td>\n",
       "      <td>False</td>\n",
       "      <td>0</td>\n",
       "      <td>1</td>\n",
       "      <td>None</td>\n",
       "      <td>task_categories:feature-extraction, task_categ...</td>\n",
       "    </tr>\n",
       "  </tbody>\n",
       "</table>\n",
       "</div>"
      ],
      "text/plain": [
       "                                         id           author  \\\n",
       "0  visual-layer/oxford-iiit-pet-vl-enriched     visual-layer   \n",
       "1      visual-layer/imagenet-1k-vl-enriched     visual-layer   \n",
       "2        juletxara/visual-spatial-reasoning        juletxara   \n",
       "3  albertvillanova/visual-spatial-reasoning  albertvillanova   \n",
       "4        FastJobs/Visual_Emotional_Analysis         FastJobs   \n",
       "5              alitourani/moviefeats_visual       alitourani   \n",
       "\n",
       "                                        sha                created_at  \\\n",
       "0  b4a703833ecb83ba0e96cbc638f7df7ff3f45ba5 2024-07-04 06:15:06+00:00   \n",
       "1  45107c4f5a96e9c2e3d6be3d0a3ca2327b5de3e3 2024-07-09 08:56:33+00:00   \n",
       "2  a07bec7a6b1cbf4b5ca3a68bf744e854982b72bd 2022-08-11 12:56:58+00:00   \n",
       "3  cbe3e224f1ae99617e6188679175ff4a9751a1e3 2022-12-14 11:31:30+00:00   \n",
       "4  31541d6df6c2f5e0b29f0d434327cf02defa83c7 2023-03-03 06:23:19+00:00   \n",
       "5  ba9c47d7784a83be0c213eee52bed0ea9139deef 2024-05-10 17:16:19+00:00   \n",
       "\n",
       "              last_modified  private  gated  disabled  downloads  likes  \\\n",
       "0 2024-07-29 00:51:33+00:00    False  False     False        290      4   \n",
       "1 2024-07-29 00:52:33+00:00    False  False     False        343      6   \n",
       "2 2022-08-11 20:11:21+00:00    False  False     False          6      4   \n",
       "3 2022-12-14 11:55:48+00:00    False  False     False          0      4   \n",
       "4 2023-03-13 06:31:17+00:00    False  False     False        277     10   \n",
       "5 2024-05-21 20:26:45+00:00    False  False     False          0      1   \n",
       "\n",
       "  paperswithcode_id                                               tags  \n",
       "0              None  task_categories:image-classification, task_cat...  \n",
       "1              None  task_categories:object-detection, task_categor...  \n",
       "2              None  task_categories:image-classification, annotati...  \n",
       "3              None  task_categories:image-classification, annotati...  \n",
       "4              None  task_categories:image-classification, language...  \n",
       "5              None  task_categories:feature-extraction, task_categ...  "
      ]
     },
     "execution_count": 6,
     "metadata": {},
     "output_type": "execute_result"
    }
   ],
   "source": [
    "hf.list_datasets(search=\"visual\")"
   ]
  },
  {
   "cell_type": "code",
   "execution_count": 7,
   "metadata": {},
   "outputs": [
    {
     "name": "stderr",
     "output_type": "stream",
     "text": [
      "\u001b[32m2024-07-31 14:33:57.929\u001b[0m | \u001b[1mINFO    \u001b[0m | \u001b[36mvlhf.hugging_face\u001b[0m:\u001b[36mdownload_dataset\u001b[0m:\u001b[36m31\u001b[0m - \u001b[1mDownloading dataset lewtun/dog_food and saving to lewtun/dog_food\u001b[0m\n"
     ]
    },
    {
     "data": {
      "application/vnd.jupyter.widget-view+json": {
       "model_id": "b44846ea8dc94a70b3f47ac2ca01185e",
       "version_major": 2,
       "version_minor": 0
      },
      "text/plain": [
       "Saving images:   0%|          | 0/3000 [00:00<?, ?it/s]"
      ]
     },
     "metadata": {},
     "output_type": "display_data"
    }
   ],
   "source": [
    "hf.download_dataset(\"lewtun/dog_food\")\n",
    "# hf.download_dataset(\"AI-Lab-Makerere/beans\")\n",
    "# hf.download_dataset(\"nelorth/oxford-flowers\")\n",
    "# hf.download_dataset(\"TheBirdLegacy/DALL-E-Dogs\", image_key='Images')\n",
    "# hf.download_dataset(\"sivan22/hebrew-handwritten-dataset\")\n",
    "# hf.download_dataset(\"rishitdagli/cppe-5\")\n",
    "# hf.download_dataset(\"keremberke/valorant-object-detection\", name=\"full\")\n",
    "# hf.download_dataset(\"Francesco/gynecology-mri\")"
   ]
  },
  {
   "cell_type": "code",
   "execution_count": 8,
   "metadata": {},
   "outputs": [
    {
     "name": "stderr",
     "output_type": "stream",
     "text": [
      "\u001b[32m2024-07-31 14:34:29.170\u001b[0m | \u001b[1mINFO    \u001b[0m | \u001b[36mvlhf.visual_layer\u001b[0m:\u001b[36mcreate_dataset\u001b[0m:\u001b[36m13\u001b[0m - \u001b[1mCreating dataset dog_food\u001b[0m\n"
     ]
    },
    {
     "name": "stdout",
     "output_type": "stream",
     "text": [
      "Dataset url: https://app.visual-layer.com/dataset/f0c2ef3e-4f06-11ef-9c82-fa57b956be33\n"
     ]
    }
   ],
   "source": [
    "hf.to_vl(vl_session=vl)"
   ]
  },
  {
   "cell_type": "code",
   "execution_count": null,
   "metadata": {},
   "outputs": [],
   "source": []
  }
 ],
 "metadata": {
  "kernelspec": {
   "display_name": "vl-hf-workflow",
   "language": "python",
   "name": "python3"
  },
  "language_info": {
   "codemirror_mode": {
    "name": "ipython",
    "version": 3
   },
   "file_extension": ".py",
   "mimetype": "text/x-python",
   "name": "python",
   "nbconvert_exporter": "python",
   "pygments_lexer": "ipython3",
   "version": "3.11.9"
  }
 },
 "nbformat": 4,
 "nbformat_minor": 2
}
