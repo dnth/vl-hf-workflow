{
 "cells": [
  {
   "cell_type": "code",
   "execution_count": 17,
   "id": "6160c333-7eb6-44ae-ba4f-2481db575929",
   "metadata": {},
   "outputs": [],
   "source": [
    "from vlhf.hugging_face import HuggingFace\n",
    "from vlhf.visual_layer import VisualLayer"
   ]
  },
  {
   "cell_type": "code",
   "execution_count": 18,
   "id": "6c52740f-690f-4ab6-922b-9610961dae35",
   "metadata": {},
   "outputs": [],
   "source": [
    "import os\n",
    "from dotenv import load_dotenv\n",
    "\n",
    "# Authentication\n",
    "load_dotenv()\n",
    "\n",
    "HF_TOKEN = os.getenv(\"HF_TOKEN\")\n",
    "VL_USER_ID = os.getenv(\"VL_USER_ID\")\n",
    "VL_ENV = os.getenv(\"VL_ENV\")\n",
    "VL_PG_URI = os.getenv(\"VL_PG_URI\")"
   ]
  },
  {
   "cell_type": "code",
   "execution_count": 19,
   "id": "4d84d67b-f1bb-4163-8591-702e1d909940",
   "metadata": {},
   "outputs": [
    {
     "name": "stderr",
     "output_type": "stream",
     "text": [
      "\u001b[32m2024-08-06 22:00:50.535\u001b[0m | \u001b[1mINFO    \u001b[0m | \u001b[36mvlhf.hugging_face\u001b[0m:\u001b[36m__init__\u001b[0m:\u001b[36m35\u001b[0m - \u001b[1mHugging Face session created\u001b[0m\n",
      "\u001b[32m2024-08-06 22:00:50.537\u001b[0m | \u001b[1mINFO    \u001b[0m | \u001b[36mvlhf.visual_layer\u001b[0m:\u001b[36m__init__\u001b[0m:\u001b[36m20\u001b[0m - \u001b[1mVisual Layer session created\u001b[0m\n"
     ]
    }
   ],
   "source": [
    "hf = HuggingFace(HF_TOKEN)\n",
    "vl = VisualLayer(VL_USER_ID, VL_ENV)"
   ]
  },
  {
   "cell_type": "code",
   "execution_count": 20,
   "id": "d627a255-eba8-464f-800a-ac8e9d168627",
   "metadata": {},
   "outputs": [],
   "source": [
    "dataset_id = \"c2c3b90a-4f39-11ef-8d8b-5e82a4538d0f\"\n",
    "hf_repo_id = \"dnth/pokemon-vl-enriched\""
   ]
  },
  {
   "cell_type": "code",
   "execution_count": 21,
   "id": "1c32bde1-8511-4176-8b12-5038885f3e1c",
   "metadata": {},
   "outputs": [
    {
     "name": "stderr",
     "output_type": "stream",
     "text": [
      "\u001b[32m2024-08-06 22:03:20.449\u001b[0m | \u001b[1mINFO    \u001b[0m | \u001b[36mvlhf.visual_layer\u001b[0m:\u001b[36mget_dataset\u001b[0m:\u001b[36m67\u001b[0m - \u001b[1mFetching dataset: c2c3b90a-4f39-11ef-8d8b-5e82a4538d0f\u001b[0m\n",
      "\u001b[32m2024-08-06 22:03:20.449\u001b[0m | \u001b[1mINFO    \u001b[0m | \u001b[36mvlhf.visual_layer\u001b[0m:\u001b[36m_get_labels\u001b[0m:\u001b[36m82\u001b[0m - \u001b[1mReading labels from database for dataset: c2c3b90a-4f39-11ef-8d8b-5e82a4538d0f\u001b[0m\n",
      "\u001b[32m2024-08-06 22:03:26.269\u001b[0m | \u001b[1mINFO    \u001b[0m | \u001b[36mvlhf.visual_layer\u001b[0m:\u001b[36m_get_labels\u001b[0m:\u001b[36m88\u001b[0m - \u001b[1mRetrieved 6991 labels for dataset c2c3b90a-4f39-11ef-8d8b-5e82a4538d0f\u001b[0m\n",
      "\u001b[32m2024-08-06 22:03:26.269\u001b[0m | \u001b[1mINFO    \u001b[0m | \u001b[36mvlhf.visual_layer\u001b[0m:\u001b[36m_get_images\u001b[0m:\u001b[36m98\u001b[0m - \u001b[1mReading images from database for dataset: c2c3b90a-4f39-11ef-8d8b-5e82a4538d0f\u001b[0m\n",
      "\u001b[32m2024-08-06 22:03:31.054\u001b[0m | \u001b[1mINFO    \u001b[0m | \u001b[36mvlhf.visual_layer\u001b[0m:\u001b[36m_get_images\u001b[0m:\u001b[36m108\u001b[0m - \u001b[1mRetrieved and processed 6991 images for dataset c2c3b90a-4f39-11ef-8d8b-5e82a4538d0f\u001b[0m\n",
      "\u001b[32m2024-08-06 22:03:31.055\u001b[0m | \u001b[1mINFO    \u001b[0m | \u001b[36mvlhf.visual_layer\u001b[0m:\u001b[36m_get_issues\u001b[0m:\u001b[36m118\u001b[0m - \u001b[1mFetching issues for dataset: c2c3b90a-4f39-11ef-8d8b-5e82a4538d0f\u001b[0m\n",
      "\u001b[32m2024-08-06 22:03:34.657\u001b[0m | \u001b[1mINFO    \u001b[0m | \u001b[36mvlhf.visual_layer\u001b[0m:\u001b[36m_get_issues\u001b[0m:\u001b[36m124\u001b[0m - \u001b[1mRetrieved 1122 issues for dataset c2c3b90a-4f39-11ef-8d8b-5e82a4538d0f\u001b[0m\n"
     ]
    }
   ],
   "source": [
    "vl_dataset = vl.get_dataset(dataset_id=dataset_id, pg_uri=VL_PG_URI)"
   ]
  },
  {
   "cell_type": "code",
   "execution_count": 23,
   "id": "d81dcee7-1e77-4587-ad1f-79bd5656547a",
   "metadata": {},
   "outputs": [
    {
     "data": {
      "text/html": [
       "<div>\n",
       "<style scoped>\n",
       "    .dataframe tbody tr th:only-of-type {\n",
       "        vertical-align: middle;\n",
       "    }\n",
       "\n",
       "    .dataframe tbody tr th {\n",
       "        vertical-align: top;\n",
       "    }\n",
       "\n",
       "    .dataframe thead th {\n",
       "        text-align: right;\n",
       "    }\n",
       "</style>\n",
       "<table border=\"1\" class=\"dataframe\">\n",
       "  <thead>\n",
       "    <tr style=\"text-align: right;\">\n",
       "      <th></th>\n",
       "      <th>image_uri</th>\n",
       "      <th>label</th>\n",
       "      <th>issues</th>\n",
       "    </tr>\n",
       "  </thead>\n",
       "  <tbody>\n",
       "    <tr>\n",
       "      <th>0</th>\n",
       "      <td>https://d2iycffepdu1yp.cloudfront.net/c2c3b90a...</td>\n",
       "      <td>Rapidash</td>\n",
       "      <td>[{'confidence': 0.98, 'description': None, 'du...</td>\n",
       "    </tr>\n",
       "    <tr>\n",
       "      <th>1</th>\n",
       "      <td>https://d2iycffepdu1yp.cloudfront.net/c2c3b90a...</td>\n",
       "      <td>Wigglytuff</td>\n",
       "      <td>None</td>\n",
       "    </tr>\n",
       "    <tr>\n",
       "      <th>2</th>\n",
       "      <td>https://d2iycffepdu1yp.cloudfront.net/c2c3b90a...</td>\n",
       "      <td>Vileplume</td>\n",
       "      <td>None</td>\n",
       "    </tr>\n",
       "    <tr>\n",
       "      <th>3</th>\n",
       "      <td>https://d2iycffepdu1yp.cloudfront.net/c2c3b90a...</td>\n",
       "      <td>Psyduck</td>\n",
       "      <td>None</td>\n",
       "    </tr>\n",
       "    <tr>\n",
       "      <th>4</th>\n",
       "      <td>https://d2iycffepdu1yp.cloudfront.net/c2c3b90a...</td>\n",
       "      <td>Nidorina</td>\n",
       "      <td>None</td>\n",
       "    </tr>\n",
       "    <tr>\n",
       "      <th>...</th>\n",
       "      <td>...</td>\n",
       "      <td>...</td>\n",
       "      <td>...</td>\n",
       "    </tr>\n",
       "    <tr>\n",
       "      <th>6986</th>\n",
       "      <td>https://d2iycffepdu1yp.cloudfront.net/c2c3b90a...</td>\n",
       "      <td>Shellder</td>\n",
       "      <td>None</td>\n",
       "    </tr>\n",
       "    <tr>\n",
       "      <th>6987</th>\n",
       "      <td>https://d2iycffepdu1yp.cloudfront.net/c2c3b90a...</td>\n",
       "      <td>Porygon</td>\n",
       "      <td>None</td>\n",
       "    </tr>\n",
       "    <tr>\n",
       "      <th>6988</th>\n",
       "      <td>https://d2iycffepdu1yp.cloudfront.net/c2c3b90a...</td>\n",
       "      <td>Machop</td>\n",
       "      <td>[{'confidence': 0.99, 'description': 'Image li...</td>\n",
       "    </tr>\n",
       "    <tr>\n",
       "      <th>6989</th>\n",
       "      <td>https://d2iycffepdu1yp.cloudfront.net/c2c3b90a...</td>\n",
       "      <td>Rapidash</td>\n",
       "      <td>None</td>\n",
       "    </tr>\n",
       "    <tr>\n",
       "      <th>6990</th>\n",
       "      <td>https://d2iycffepdu1yp.cloudfront.net/c2c3b90a...</td>\n",
       "      <td>Dratini</td>\n",
       "      <td>[{'confidence': 0.9353015, 'description': None...</td>\n",
       "    </tr>\n",
       "  </tbody>\n",
       "</table>\n",
       "<p>6991 rows × 3 columns</p>\n",
       "</div>"
      ],
      "text/plain": [
       "                                              image_uri       label  \\\n",
       "0     https://d2iycffepdu1yp.cloudfront.net/c2c3b90a...    Rapidash   \n",
       "1     https://d2iycffepdu1yp.cloudfront.net/c2c3b90a...  Wigglytuff   \n",
       "2     https://d2iycffepdu1yp.cloudfront.net/c2c3b90a...   Vileplume   \n",
       "3     https://d2iycffepdu1yp.cloudfront.net/c2c3b90a...     Psyduck   \n",
       "4     https://d2iycffepdu1yp.cloudfront.net/c2c3b90a...    Nidorina   \n",
       "...                                                 ...         ...   \n",
       "6986  https://d2iycffepdu1yp.cloudfront.net/c2c3b90a...    Shellder   \n",
       "6987  https://d2iycffepdu1yp.cloudfront.net/c2c3b90a...     Porygon   \n",
       "6988  https://d2iycffepdu1yp.cloudfront.net/c2c3b90a...      Machop   \n",
       "6989  https://d2iycffepdu1yp.cloudfront.net/c2c3b90a...    Rapidash   \n",
       "6990  https://d2iycffepdu1yp.cloudfront.net/c2c3b90a...     Dratini   \n",
       "\n",
       "                                                 issues  \n",
       "0     [{'confidence': 0.98, 'description': None, 'du...  \n",
       "1                                                  None  \n",
       "2                                                  None  \n",
       "3                                                  None  \n",
       "4                                                  None  \n",
       "...                                                 ...  \n",
       "6986                                               None  \n",
       "6987                                               None  \n",
       "6988  [{'confidence': 0.99, 'description': 'Image li...  \n",
       "6989                                               None  \n",
       "6990  [{'confidence': 0.9353015, 'description': None...  \n",
       "\n",
       "[6991 rows x 3 columns]"
      ]
     },
     "execution_count": 23,
     "metadata": {},
     "output_type": "execute_result"
    }
   ],
   "source": [
    "vl_dataset.to_pandas()"
   ]
  },
  {
   "cell_type": "code",
   "execution_count": 24,
   "id": "4d7c48e3-650d-4163-aec9-4384c04e99cc",
   "metadata": {},
   "outputs": [
    {
     "data": {
      "application/vnd.jupyter.widget-view+json": {
       "model_id": "4cc97d50aa374984b052c350f2d69e25",
       "version_major": 2,
       "version_minor": 0
      },
      "text/plain": [
       "Casting the dataset:   0%|          | 0/6991 [00:00<?, ? examples/s]"
      ]
     },
     "metadata": {},
     "output_type": "display_data"
    },
    {
     "name": "stderr",
     "output_type": "stream",
     "text": [
      "\u001b[32m2024-08-06 22:04:35.469\u001b[0m | \u001b[1mINFO    \u001b[0m | \u001b[36mvlhf.visual_layer\u001b[0m:\u001b[36mto_hf\u001b[0m:\u001b[36m63\u001b[0m - \u001b[1mPushing dataset to HF repository: dnth/pokemon-vl-enriched\u001b[0m\n"
     ]
    },
    {
     "data": {
      "application/vnd.jupyter.widget-view+json": {
       "model_id": "76665fc34b0647be999bf6b10b2b28c1",
       "version_major": 2,
       "version_minor": 0
      },
      "text/plain": [
       "Uploading the dataset shards:   0%|          | 0/1 [00:00<?, ?it/s]"
      ]
     },
     "metadata": {},
     "output_type": "display_data"
    },
    {
     "data": {
      "application/vnd.jupyter.widget-view+json": {
       "model_id": "ab53ddf5470c4fb8a379e54e167e4dcd",
       "version_major": 2,
       "version_minor": 0
      },
      "text/plain": [
       "Creating parquet from Arrow format:   0%|          | 0/7 [00:00<?, ?ba/s]"
      ]
     },
     "metadata": {},
     "output_type": "display_data"
    }
   ],
   "source": [
    "vl.to_hf(hf, hf_repo_id, vl_dataset)"
   ]
  },
  {
   "cell_type": "code",
   "execution_count": null,
   "id": "68f87bbf-91f4-41ad-9387-ab48c6736c82",
   "metadata": {},
   "outputs": [],
   "source": []
  }
 ],
 "metadata": {
  "kernelspec": {
   "display_name": "Python 3 (ipykernel)",
   "language": "python",
   "name": "python3"
  },
  "language_info": {
   "codemirror_mode": {
    "name": "ipython",
    "version": 3
   },
   "file_extension": ".py",
   "mimetype": "text/x-python",
   "name": "python",
   "nbconvert_exporter": "python",
   "pygments_lexer": "ipython3",
   "version": "3.11.9"
  }
 },
 "nbformat": 4,
 "nbformat_minor": 5
}
