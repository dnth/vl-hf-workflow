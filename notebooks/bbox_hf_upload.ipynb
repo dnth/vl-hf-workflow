{
 "cells": [
  {
   "cell_type": "code",
   "execution_count": 1,
   "metadata": {},
   "outputs": [],
   "source": [
    "from vlhf.hugging_face import HuggingFace\n",
    "from vlhf.visual_layer import VisualLayer"
   ]
  },
  {
   "cell_type": "code",
   "execution_count": 2,
   "metadata": {},
   "outputs": [],
   "source": [
    "import os\n",
    "from dotenv import load_dotenv\n",
    "\n",
    "# Authentication\n",
    "load_dotenv()\n",
    "\n",
    "HF_TOKEN = os.getenv(\"HF_TOKEN\")\n",
    "VL_USER_ID = os.getenv(\"VL_USER_ID\")\n",
    "VL_ENV = os.getenv(\"VL_ENV\")\n",
    "VL_PG_URI = os.getenv(\"VL_PG_URI\")"
   ]
  },
  {
   "cell_type": "code",
   "execution_count": 3,
   "metadata": {},
   "outputs": [
    {
     "name": "stderr",
     "output_type": "stream",
     "text": [
      "\u001b[32m2024-08-08 17:04:36.957\u001b[0m | \u001b[1mINFO    \u001b[0m | \u001b[36mvlhf.hugging_face\u001b[0m:\u001b[36m__init__\u001b[0m:\u001b[36m84\u001b[0m - \u001b[1mHugging Face session created\u001b[0m\n",
      "\u001b[32m2024-08-08 17:04:36.958\u001b[0m | \u001b[1mINFO    \u001b[0m | \u001b[36mvlhf.visual_layer\u001b[0m:\u001b[36m__init__\u001b[0m:\u001b[36m21\u001b[0m - \u001b[1mVisual Layer session created\u001b[0m\n"
     ]
    }
   ],
   "source": [
    "hf = HuggingFace(HF_TOKEN)\n",
    "vl = VisualLayer(VL_USER_ID, VL_ENV, VL_PG_URI)"
   ]
  },
  {
   "cell_type": "code",
   "execution_count": 12,
   "metadata": {},
   "outputs": [],
   "source": [
    "# dataset_id = \"f0eb6f74-5495-11ef-aab9-42e5998eb94f\" # german traffic sign dataset\n",
    "# hf_repo_id = \"dnth/german-traffic-sign-vl-enriched\"\n",
    "\n",
    "# dataset_id = \"c2c3b90a-4f39-11ef-8d8b-5e82a4538d0f\" # pokemon dataset\n",
    "# hf_repo_id = \"dnth/pokemon-vl-enriched\"\n",
    "\n",
    "# dataset_id = \"fdd713c0-554c-11ef-bd7b-dacb63a3a95e\" # pets enriched dataset\n",
    "# hf_repo_id = \"dnth/pets-vl-enriched\"\n",
    "\n",
    "dataset_id = \"273b1d8a-54c4-11ef-bd7b-dacb63a3a95e\" # valorant dataset\n",
    "hf_repo_id = \"dnth/valorant-vl-enriched\""
   ]
  },
  {
   "cell_type": "code",
   "execution_count": 13,
   "metadata": {},
   "outputs": [
    {
     "name": "stderr",
     "output_type": "stream",
     "text": [
      "\u001b[32m2024-08-08 17:06:20.696\u001b[0m | \u001b[1mINFO    \u001b[0m | \u001b[36mvlhf.visual_layer\u001b[0m:\u001b[36mget_dataset\u001b[0m:\u001b[36m80\u001b[0m - \u001b[1mFetching dataset: f0eb6f74-5495-11ef-aab9-42e5998eb94f\u001b[0m\n",
      "\u001b[32m2024-08-08 17:06:24.300\u001b[0m | \u001b[1mINFO    \u001b[0m | \u001b[36mvlhf.visual_layer\u001b[0m:\u001b[36m_get_images\u001b[0m:\u001b[36m160\u001b[0m - \u001b[1mRetrieved and processed 545 images\u001b[0m\n",
      "\u001b[32m2024-08-08 17:06:27.388\u001b[0m | \u001b[1mINFO    \u001b[0m | \u001b[36mvlhf.visual_layer\u001b[0m:\u001b[36m_get_image_labels\u001b[0m:\u001b[36m114\u001b[0m - \u001b[1mRetrieved 0 image labels\u001b[0m\n",
      "\u001b[32m2024-08-08 17:06:31.197\u001b[0m | \u001b[1mINFO    \u001b[0m | \u001b[36mvlhf.visual_layer\u001b[0m:\u001b[36m_get_object_labels\u001b[0m:\u001b[36m143\u001b[0m - \u001b[1mRetrieved 506 object labels\u001b[0m\n",
      "\u001b[32m2024-08-08 17:06:34.455\u001b[0m | \u001b[1mINFO    \u001b[0m | \u001b[36mvlhf.visual_layer\u001b[0m:\u001b[36m_get_image_issues\u001b[0m:\u001b[36m173\u001b[0m - \u001b[1mRetrieved 329 image issues\u001b[0m\n"
     ]
    },
    {
     "data": {
      "text/html": [
       "<div><style>\n",
       ".dataframe > thead > tr,\n",
       ".dataframe > tbody > tr {\n",
       "  text-align: right;\n",
       "  white-space: pre-wrap;\n",
       "}\n",
       "</style>\n",
       "<small>shape: (545, 4)</small><table border=\"1\" class=\"dataframe\"><thead><tr><th>image_uri</th><th>image_label</th><th>image_issues</th><th>object_labels</th></tr><tr><td>str</td><td>str</td><td>list[struct[4]]</td><td>list[struct[3]]</td></tr></thead><tbody><tr><td>&quot;https://d2iycf…</td><td>null</td><td>null</td><td>[{&quot;speed limit 50&quot;,[1089, 153, … 123],&quot;fcaf1c08-e648-415b-8476-636bb668ae76&quot;}]</td></tr><tr><td>&quot;https://d2iycf…</td><td>null</td><td>null</td><td>null</td></tr><tr><td>&quot;https://d2iycf…</td><td>null</td><td>null</td><td>null</td></tr><tr><td>&quot;https://d2iycf…</td><td>null</td><td>null</td><td>[{&quot;roundabout&quot;,[983, 388, … 44],&quot;2abed4d6-a3ef-49e7-8ec2-8775ec94da7a&quot;}, {&quot;give way&quot;,[973, 335, … 55],&quot;dcb5d060-b5d1-4e48-b9cd-6183b9140162&quot;}, {&quot;keep right&quot;,[386, 494, … 58],&quot;51c3368d-2523-40d3-9c44-f944a9d7b7eb&quot;}]</td></tr><tr><td>&quot;https://d2iycf…</td><td>null</td><td>null</td><td>[{&quot;priority road&quot;,[1120, 444, … 20],&quot;6790a0ce-635a-4075-84eb-b0bddf929590&quot;}]</td></tr><tr><td>&quot;https://d2iycf…</td><td>null</td><td>null</td><td>[{&quot;speed limit 50&quot;,[891, 396, … 26],&quot;b5079cc8-25cd-4f5f-a82b-51bfe10c9a33&quot;}]</td></tr><tr><td>&quot;https://d2iycf…</td><td>null</td><td>null</td><td>[{&quot;speed limit 30&quot;,[1146, 362, … 37],&quot;52f09435-a884-465e-9899-1657bc055eae&quot;}]</td></tr><tr><td>&quot;https://d2iycf…</td><td>null</td><td>null</td><td>[{&quot;speed limit 20&quot;,[975, 395, … 35],&quot;3817051a-f9b6-4c66-a9ec-940b306426a1&quot;}]</td></tr><tr><td>&quot;https://d2iycf…</td><td>null</td><td>null</td><td>[{&quot;pedestrian crossing&quot;,[667, 472, … 25],&quot;d0ca25cb-aab6-4e4d-b455-c7679a51edbb&quot;}]</td></tr><tr><td>&quot;https://d2iycf…</td><td>null</td><td>null</td><td>[{&quot;restriction ends 80&quot;,[98, 417, … 46],&quot;025cfce4-1280-417b-bf1b-3eb6b64fea60&quot;}, {&quot;restriction ends 80&quot;,[1227, 364, … 47],&quot;4d1a14ab-bbb1-401a-a365-67073251d8a2&quot;}]</td></tr><tr><td>&quot;https://d2iycf…</td><td>null</td><td>null</td><td>[{&quot;speed limit 50&quot;,[1090, 341, … 40],&quot;7ea6ccc7-044b-470c-87a3-3f48b7542123&quot;}, {&quot;speed limit 50&quot;,[259, 369, … 39],&quot;bfc1bc37-7007-46a1-8336-9fc9943f17e1&quot;}]</td></tr><tr><td>&quot;https://d2iycf…</td><td>null</td><td>null</td><td>[{&quot;no overtaking&quot;,[700, 454, … 22],&quot;4ebff5ba-27a8-4b98-a234-78089b5f8a94&quot;}]</td></tr><tr><td>&hellip;</td><td>&hellip;</td><td>&hellip;</td><td>&hellip;</td></tr><tr><td>&quot;https://d2iycf…</td><td>null</td><td>null</td><td>[{&quot;speed limit 30&quot;,[847, 364, … 32],&quot;b0ceeea9-32b0-4cd2-b247-8748a05ed71c&quot;}]</td></tr><tr><td>&quot;https://d2iycf…</td><td>null</td><td>null</td><td>[{&quot;speed limit 70&quot;,[335, 415, … 61],&quot;43c2c444-8345-446f-8f39-bfa5cf36e91e&quot;}, {&quot;speed limit 70&quot;,[1255, 415, … 57],&quot;5c6326e7-e0ec-4c56-b838-760cd64d8679&quot;}]</td></tr><tr><td>&quot;https://d2iycf…</td><td>null</td><td>null</td><td>[{&quot;keep right&quot;,[22, 505, … 66],&quot;87339926-23a9-468a-892f-f800c1f68b7b&quot;}]</td></tr><tr><td>&quot;https://d2iycf…</td><td>null</td><td>null</td><td>[{&quot;speed limit 50&quot;,[843, 447, … 23],&quot;8019339b-66f3-455f-97b4-8d55ff2daac5&quot;}]</td></tr><tr><td>&quot;https://d2iycf…</td><td>null</td><td>null</td><td>[{&quot;keep right&quot;,[379, 595, … 32],&quot;10db0523-7dee-4d3f-8b4b-c496117f74e3&quot;}]</td></tr><tr><td>&quot;https://d2iycf…</td><td>null</td><td>null</td><td>[{&quot;go straight&quot;,[670, 400, … 21],&quot;59ab4353-262c-4e1c-a6a3-44997d548365&quot;}]</td></tr><tr><td>&quot;https://d2iycf…</td><td>null</td><td>null</td><td>[{&quot;speed limit 80&quot;,[338, 406, … 43],&quot;c785687b-720a-4af1-b432-d2efe54861e2&quot;}, {&quot;speed limit 80&quot;,[1166, 327, … 43],&quot;f9f81dd9-c671-46c9-91a5-339c6fc7680f&quot;}]</td></tr><tr><td>&quot;https://d2iycf…</td><td>null</td><td>null</td><td>[{&quot;no overtaking -trucks-&quot;,[772, 558, … 24],&quot;7399c4b1-9ee3-42d6-8728-12e054741de8&quot;}, {&quot;traffic signal&quot;,[769, 517, … 23],&quot;8846753d-2931-4cc6-8ff0-e62bda78d812&quot;}, {&quot;speed limit 70&quot;,[771, 538, … 22],&quot;7babe490-40f6-40f0-a934-5d2a5763d0af&quot;}]</td></tr><tr><td>&quot;https://d2iycf…</td><td>null</td><td>null</td><td>null</td></tr><tr><td>&quot;https://d2iycf…</td><td>null</td><td>null</td><td>[{&quot;speed limit 30&quot;,[1152, 224, … 66],&quot;181ac15a-a580-4b05-81d9-ec4961c34b75&quot;}]</td></tr><tr><td>&quot;https://d2iycf…</td><td>null</td><td>null</td><td>[{&quot;give way&quot;,[904, 514, … 35],&quot;50e6c5fc-956c-45a7-aaec-d9292e545952&quot;}, {&quot;speed limit 30&quot;,[823, 489, … 24],&quot;dcb07653-070f-4c46-ac46-da6245fd4b29&quot;}, {&quot;priority road&quot;,[1135, 218, … 113],&quot;5371f4fb-4ab7-4798-9587-77b75bdad3e4&quot;}]</td></tr><tr><td>&quot;https://d2iycf…</td><td>null</td><td>null</td><td>[{&quot;go right&quot;,[831, 481, … 31],&quot;3dc4eafa-256b-4aba-ae2a-4ad513f7b455&quot;}, {&quot;priority road&quot;,[829, 456, … 28],&quot;407cdde3-71f8-4172-aec0-2014b696fb31&quot;}]</td></tr></tbody></table></div>"
      ],
      "text/plain": [
       "shape: (545, 4)\n",
       "┌─────────────────────────────────┬─────────────┬─────────────────┬────────────────────────────────┐\n",
       "│ image_uri                       ┆ image_label ┆ image_issues    ┆ object_labels                  │\n",
       "│ ---                             ┆ ---         ┆ ---             ┆ ---                            │\n",
       "│ str                             ┆ str         ┆ list[struct[4]] ┆ list[struct[3]]                │\n",
       "╞═════════════════════════════════╪═════════════╪═════════════════╪════════════════════════════════╡\n",
       "│ https://d2iycffepdu1yp.cloudfro ┆ null        ┆ null            ┆ [{\"speed limit 50\",[1089, 153, │\n",
       "│ n…                              ┆             ┆                 ┆ ……                             │\n",
       "│ https://d2iycffepdu1yp.cloudfro ┆ null        ┆ null            ┆ null                           │\n",
       "│ n…                              ┆             ┆                 ┆                                │\n",
       "│ https://d2iycffepdu1yp.cloudfro ┆ null        ┆ null            ┆ null                           │\n",
       "│ n…                              ┆             ┆                 ┆                                │\n",
       "│ https://d2iycffepdu1yp.cloudfro ┆ null        ┆ null            ┆ [{\"roundabout\",[983, 388, …    │\n",
       "│ n…                              ┆             ┆                 ┆ 44],…                          │\n",
       "│ …                               ┆ …           ┆ …               ┆ …                              │\n",
       "│ https://d2iycffepdu1yp.cloudfro ┆ null        ┆ null            ┆ null                           │\n",
       "│ n…                              ┆             ┆                 ┆                                │\n",
       "│ https://d2iycffepdu1yp.cloudfro ┆ null        ┆ null            ┆ [{\"speed limit 30\",[1152, 224, │\n",
       "│ n…                              ┆             ┆                 ┆ ……                             │\n",
       "│ https://d2iycffepdu1yp.cloudfro ┆ null        ┆ null            ┆ [{\"give way\",[904, 514, …      │\n",
       "│ n…                              ┆             ┆                 ┆ 35],\"5…                        │\n",
       "│ https://d2iycffepdu1yp.cloudfro ┆ null        ┆ null            ┆ [{\"go right\",[831, 481, …      │\n",
       "│ n…                              ┆             ┆                 ┆ 31],\"3…                        │\n",
       "└─────────────────────────────────┴─────────────┴─────────────────┴────────────────────────────────┘"
      ]
     },
     "execution_count": 13,
     "metadata": {},
     "output_type": "execute_result"
    }
   ],
   "source": [
    "# df = vl._get_object_labels(dataset_id=dataset_id, pg_uri=VL_PG_URI)\n",
    "df = vl.get_dataset(dataset_id=dataset_id)\n",
    "df"
   ]
  },
  {
   "cell_type": "code",
   "execution_count": 14,
   "metadata": {},
   "outputs": [
    {
     "data": {
      "application/vnd.jupyter.widget-view+json": {
       "model_id": "0703bd363192464c98b5aa6cb2dc6f7a",
       "version_major": 2,
       "version_minor": 0
      },
      "text/plain": [
       "Casting the dataset:   0%|          | 0/545 [00:00<?, ? examples/s]"
      ]
     },
     "metadata": {},
     "output_type": "display_data"
    },
    {
     "name": "stderr",
     "output_type": "stream",
     "text": [
      "\u001b[32m2024-08-08 17:06:37.778\u001b[0m | \u001b[1mINFO    \u001b[0m | \u001b[36mvlhf.visual_layer\u001b[0m:\u001b[36mto_hf\u001b[0m:\u001b[36m76\u001b[0m - \u001b[1mPushing dataset to HF repository: dnth/german-traffic-sign-vl-enriched\u001b[0m\n"
     ]
    },
    {
     "data": {
      "application/vnd.jupyter.widget-view+json": {
       "model_id": "d49117ae56a74fb6977f94884e0ea8ff",
       "version_major": 2,
       "version_minor": 0
      },
      "text/plain": [
       "Uploading the dataset shards:   0%|          | 0/1 [00:00<?, ?it/s]"
      ]
     },
     "metadata": {},
     "output_type": "display_data"
    },
    {
     "data": {
      "application/vnd.jupyter.widget-view+json": {
       "model_id": "76a7f028ae384811b85e095e81c74099",
       "version_major": 2,
       "version_minor": 0
      },
      "text/plain": [
       "Creating parquet from Arrow format:   0%|          | 0/1 [00:00<?, ?ba/s]"
      ]
     },
     "metadata": {},
     "output_type": "display_data"
    },
    {
     "data": {
      "application/vnd.jupyter.widget-view+json": {
       "model_id": "7628286037a441f19375a107c3846f23",
       "version_major": 2,
       "version_minor": 0
      },
      "text/plain": [
       "README.md:   0%|          | 0.00/682 [00:00<?, ?B/s]"
      ]
     },
     "metadata": {},
     "output_type": "display_data"
    }
   ],
   "source": [
    "vl.to_hf(hf, hf_repo_id, df)"
   ]
  },
  {
   "cell_type": "code",
   "execution_count": null,
   "metadata": {},
   "outputs": [],
   "source": []
  }
 ],
 "metadata": {
  "kernelspec": {
   "display_name": "vl-hf-workflow",
   "language": "python",
   "name": "python3"
  },
  "language_info": {
   "codemirror_mode": {
    "name": "ipython",
    "version": 3
   },
   "file_extension": ".py",
   "mimetype": "text/x-python",
   "name": "python",
   "nbconvert_exporter": "python",
   "pygments_lexer": "ipython3",
   "version": "3.11.9"
  }
 },
 "nbformat": 4,
 "nbformat_minor": 2
}
