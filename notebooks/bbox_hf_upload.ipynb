{
 "cells": [
  {
   "cell_type": "code",
   "execution_count": 1,
   "metadata": {},
   "outputs": [],
   "source": [
    "from vlhf.hugging_face import HuggingFace\n",
    "from vlhf.visual_layer import VisualLayer"
   ]
  },
  {
   "cell_type": "code",
   "execution_count": 2,
   "metadata": {},
   "outputs": [],
   "source": [
    "import os\n",
    "from dotenv import load_dotenv\n",
    "\n",
    "# Authentication\n",
    "load_dotenv()\n",
    "\n",
    "HF_TOKEN = os.getenv(\"HF_TOKEN\")\n",
    "VL_USER_ID = os.getenv(\"VL_USER_ID\")\n",
    "VL_ENV = os.getenv(\"VL_ENV\")\n",
    "VL_PG_URI = os.getenv(\"VL_PG_URI\")"
   ]
  },
  {
   "cell_type": "code",
   "execution_count": 3,
   "metadata": {},
   "outputs": [
    {
     "name": "stderr",
     "output_type": "stream",
     "text": [
      "\u001b[32m2024-08-08 17:04:36.957\u001b[0m | \u001b[1mINFO    \u001b[0m | \u001b[36mvlhf.hugging_face\u001b[0m:\u001b[36m__init__\u001b[0m:\u001b[36m84\u001b[0m - \u001b[1mHugging Face session created\u001b[0m\n",
      "\u001b[32m2024-08-08 17:04:36.958\u001b[0m | \u001b[1mINFO    \u001b[0m | \u001b[36mvlhf.visual_layer\u001b[0m:\u001b[36m__init__\u001b[0m:\u001b[36m21\u001b[0m - \u001b[1mVisual Layer session created\u001b[0m\n"
     ]
    }
   ],
   "source": [
    "hf = HuggingFace(HF_TOKEN)\n",
    "vl = VisualLayer(VL_USER_ID, VL_ENV, VL_PG_URI)"
   ]
  },
  {
   "cell_type": "code",
   "execution_count": 4,
   "metadata": {},
   "outputs": [],
   "source": [
    "# dataset_id = \"f0eb6f74-5495-11ef-aab9-42e5998eb94f\" # german traffic sign dataset\n",
    "# hf_repo_id = \"dnth/german-traffic-sign-vl-enriched\"\n",
    "\n",
    "# dataset_id = \"c2c3b90a-4f39-11ef-8d8b-5e82a4538d0f\" # pokemon dataset\n",
    "# hf_repo_id = \"dnth/pokemon-vl-enriched\"\n",
    "\n",
    "dataset_id = \"fdd713c0-554c-11ef-bd7b-dacb63a3a95e\" # pets enriched dataset\n",
    "hf_repo_id = \"dnth/pets-vl-enriched\""
   ]
  },
  {
   "cell_type": "code",
   "execution_count": 5,
   "metadata": {},
   "outputs": [
    {
     "name": "stderr",
     "output_type": "stream",
     "text": [
      "\u001b[32m2024-08-08 17:04:42.134\u001b[0m | \u001b[1mINFO    \u001b[0m | \u001b[36mvlhf.visual_layer\u001b[0m:\u001b[36mget_dataset\u001b[0m:\u001b[36m80\u001b[0m - \u001b[1mFetching dataset: fdd713c0-554c-11ef-bd7b-dacb63a3a95e\u001b[0m\n",
      "\u001b[32m2024-08-08 17:04:48.975\u001b[0m | \u001b[1mINFO    \u001b[0m | \u001b[36mvlhf.visual_layer\u001b[0m:\u001b[36m_get_images\u001b[0m:\u001b[36m160\u001b[0m - \u001b[1mRetrieved and processed 7384 images\u001b[0m\n",
      "\u001b[32m2024-08-08 17:04:52.955\u001b[0m | \u001b[1mINFO    \u001b[0m | \u001b[36mvlhf.visual_layer\u001b[0m:\u001b[36m_get_image_labels\u001b[0m:\u001b[36m114\u001b[0m - \u001b[1mRetrieved 7349 image labels\u001b[0m\n",
      "\u001b[32m2024-08-08 17:04:57.311\u001b[0m | \u001b[1mINFO    \u001b[0m | \u001b[36mvlhf.visual_layer\u001b[0m:\u001b[36m_get_object_labels\u001b[0m:\u001b[36m143\u001b[0m - \u001b[1mRetrieved 7349 object labels\u001b[0m\n",
      "\u001b[32m2024-08-08 17:05:00.853\u001b[0m | \u001b[1mINFO    \u001b[0m | \u001b[36mvlhf.visual_layer\u001b[0m:\u001b[36m_get_image_issues\u001b[0m:\u001b[36m173\u001b[0m - \u001b[1mRetrieved 1342 image issues\u001b[0m\n"
     ]
    },
    {
     "data": {
      "text/html": [
       "<div><style>\n",
       ".dataframe > thead > tr,\n",
       ".dataframe > tbody > tr {\n",
       "  text-align: right;\n",
       "  white-space: pre-wrap;\n",
       "}\n",
       "</style>\n",
       "<small>shape: (7_384, 4)</small><table border=\"1\" class=\"dataframe\"><thead><tr><th>image_uri</th><th>image_label</th><th>image_issues</th><th>object_labels</th></tr><tr><td>str</td><td>str</td><td>list[struct[4]]</td><td>list[struct[3]]</td></tr></thead><tbody><tr><td>&quot;https://d2iycf…</td><td>&quot;cat&quot;</td><td>null</td><td>[{&quot;cat&quot;,[0, 16, … 359],&quot;2fc62a2d-b0f4-450c-b991-8c47abf5a060&quot;}]</td></tr><tr><td>&quot;https://d2iycf…</td><td>&quot;dog&quot;</td><td>null</td><td>[{&quot;dog&quot;,[19, 16, … 359],&quot;15951aae-5ade-4ca0-9580-060c8af6c793&quot;}]</td></tr><tr><td>&quot;https://d2iycf…</td><td>&quot;dog&quot;</td><td>null</td><td>[{&quot;strap&quot;,[133, 202, … 167],&quot;36d02134-760f-485c-aa8d-0bf0711d5fd2&quot;}, {&quot;dog&quot;,[69, 110, … 198],&quot;d252a2ac-b763-4591-aded-e166c5f358f2&quot;}, {&quot;strap&quot;,[201, 68, … 302],&quot;66c1e17b-6a59-489b-b332-93a17a5826d3&quot;}]</td></tr><tr><td>&quot;https://d2iycf…</td><td>&quot;cat&quot;</td><td>null</td><td>[{&quot;dog&quot;,[48, 43, … 337],&quot;4ebd514e-15ec-4260-99eb-e5d27f37f766&quot;}, {&quot;person&quot;,[125, 235, … 265],&quot;dc287ba6-564c-4479-aa53-6283b0ad1398&quot;}]</td></tr><tr><td>&quot;https://d2iycf…</td><td>&quot;dog&quot;</td><td>null</td><td>[{&quot;dog&quot;,[0, 4, … 267],&quot;99611edc-48c7-40e6-a0d3-baaeb029177e&quot;}]</td></tr><tr><td>&quot;https://d2iycf…</td><td>&quot;cat&quot;</td><td>null</td><td>[{&quot;cat&quot;,[1, 0, … 300],&quot;8166c1d3-3017-401e-87f9-37f9a042cf1b&quot;}, {&quot;tag&quot;,[1, 216, … 61],&quot;3c0cccba-2a34-4e33-8bea-fee10b6b2c9e&quot;}]</td></tr><tr><td>&quot;https://d2iycf…</td><td>&quot;cat&quot;</td><td>null</td><td>[{&quot;cat&quot;,[0, 20, … 357],&quot;fc7f5068-cde0-49c0-9f13-748a74522f04&quot;}, {&quot;blanket&quot;,[0, 333, … 60],&quot;af62df85-97ad-45a3-b28e-49f52b439e25&quot;}]</td></tr><tr><td>&quot;https://d2iycf…</td><td>&quot;dog&quot;</td><td>null</td><td>[{&quot;dog&quot;,[159, 74, … 266],&quot;d85b02b0-c301-4f86-b8d2-3bd2f10311ec&quot;}]</td></tr><tr><td>&quot;https://d2iycf…</td><td>&quot;cat&quot;</td><td>null</td><td>[{&quot;cat&quot;,[0, 5, … 251],&quot;2904ceae-ca1c-4e59-8982-dcf461f42717&quot;}]</td></tr><tr><td>&quot;https://d2iycf…</td><td>&quot;cat&quot;</td><td>null</td><td>[{&quot;cat&quot;,[1, 19, … 481],&quot;cc4b2f93-5533-4748-91e8-6c664c268395&quot;}]</td></tr><tr><td>&quot;https://d2iycf…</td><td>&quot;dog&quot;</td><td>null</td><td>[{&quot;bear&quot;,[82, 96, … 398],&quot;eb23eb92-6a0c-4082-a77c-81b29acacd6c&quot;}]</td></tr><tr><td>&quot;https://d2iycf…</td><td>&quot;dog&quot;</td><td>null</td><td>[{&quot;bed&quot;,[269, 170, … 161],&quot;6374a576-dfe2-4bef-823e-28b6ff33a381&quot;}, {&quot;dog&quot;,[94, 27, … 305],&quot;73ac0a45-0893-4cee-b82d-82811950afa7&quot;}, {&quot;pillow&quot;,[389, 220, … 74],&quot;12f6356b-440f-4270-b99d-1b4632a2df52&quot;}]</td></tr><tr><td>&hellip;</td><td>&hellip;</td><td>&hellip;</td><td>&hellip;</td></tr><tr><td>&quot;https://d2iycf…</td><td>&quot;dog&quot;</td><td>null</td><td>[{&quot;dog&quot;,[19, 35, … 376],&quot;3be401e7-c95f-425f-b8c1-a145f8e5d331&quot;}]</td></tr><tr><td>&quot;https://d2iycf…</td><td>&quot;dog&quot;</td><td>null</td><td>[{&quot;dog&quot;,[133, 47, … 152],&quot;1c2fb644-64ff-433b-8738-0f8bdf1a2e06&quot;}]</td></tr><tr><td>&quot;https://d2iycf…</td><td>&quot;cat&quot;</td><td>null</td><td>[{&quot;cupboard&quot;,[20, 253, … 115],&quot;c33aa470-e4ca-4a2d-b31c-aa7c648ada2f&quot;}, {&quot;cupboard&quot;,[80, 317, … 52],&quot;51285b14-8815-480d-bbc7-9ce731d85029&quot;}]</td></tr><tr><td>&quot;https://d2iycf…</td><td>&quot;dog&quot;</td><td>null</td><td>[{&quot;dog&quot;,[33, 50, … 450],&quot;ce642b65-5325-41fb-abdd-bc779a652761&quot;}, {&quot;cupboard&quot;,[0, 1, … 251],&quot;96a28bff-6bd8-4144-af30-ebdfa7c52cf6&quot;}, {&quot;runner&quot;,[0, 412, … 88],&quot;f9371c67-5728-4d17-be9b-1e79b1cbc120&quot;}]</td></tr><tr><td>&quot;https://d2iycf…</td><td>&quot;dog&quot;</td><td>null</td><td>[{&quot;dog&quot;,[179, 65, … 278],&quot;d0ff33c6-d378-493c-81c9-ec559fba6889&quot;}]</td></tr><tr><td>&quot;https://d2iycf…</td><td>&quot;dog&quot;</td><td>null</td><td>[{&quot;basket&quot;,[227, 1, … 135],&quot;c0ff95b4-741e-4e85-a751-db7c3b9da41f&quot;}, {&quot;dog&quot;,[50, 1, … 448],&quot;9bd287da-9bd3-45d6-8d62-b7795c2110fd&quot;}]</td></tr><tr><td>&quot;https://d2iycf…</td><td>&quot;dog&quot;</td><td>null</td><td>[{&quot;dog&quot;,[77, 126, … 281],&quot;99a4c9bb-db77-4fbd-91b4-c1e6a3e3c900&quot;}]</td></tr><tr><td>&quot;https://d2iycf…</td><td>&quot;dog&quot;</td><td>null</td><td>[{&quot;cushion&quot;,[351, 266, … 109],&quot;8e2f9822-6680-4674-a049-2e9cdf72339b&quot;}, {&quot;cushion&quot;,[0, 250, … 125],&quot;ef97be2d-009f-4e5b-b10e-6d0567d04f9a&quot;}, … {&quot;dog&quot;,[0, 109, … 266],&quot;74d88ad2-e2c2-4570-9e3e-d36e8c364b7f&quot;}]</td></tr><tr><td>&quot;https://d2iycf…</td><td>&quot;dog&quot;</td><td>null</td><td>[{&quot;cat&quot;,[31, 60, … 417],&quot;f5a289bc-b6da-4979-bc82-7b1330b5d181&quot;}, {&quot;ball&quot;,[79, 290, … 72],&quot;852374b1-a01f-4b1c-b4f6-d74efe99caf8&quot;}]</td></tr><tr><td>&quot;https://d2iycf…</td><td>&quot;cat&quot;</td><td>null</td><td>[{&quot;tank top&quot;,[2, 1, … 234],&quot;447471d9-a40c-420b-a7b7-73f20d6b96cb&quot;}, {&quot;cat&quot;,[0, 78, … 249],&quot;de856ae1-2716-4673-9282-7e390588b8ed&quot;}, {&quot;person&quot;,[0, 254, … 78],&quot;e4e55234-67e8-4157-a741-90dcdb370566&quot;}]</td></tr><tr><td>&quot;https://d2iycf…</td><td>&quot;dog&quot;</td><td>null</td><td>[{&quot;dog&quot;,[3, 11, … 270],&quot;898f2f00-f2a7-452a-998c-a8e9962847ee&quot;}, {&quot;person&quot;,[1, 0, … 211],&quot;c15c2d79-98f4-482f-8c5a-2bb83a9c8816&quot;}]</td></tr><tr><td>&quot;https://d2iycf…</td><td>&quot;dog&quot;</td><td>null</td><td>[{&quot;dog&quot;,[15, 32, … 241],&quot;b81e2b1a-1990-46e0-8384-55ae838df09f&quot;}]</td></tr></tbody></table></div>"
      ],
      "text/plain": [
       "shape: (7_384, 4)\n",
       "┌───────────────────────────────────┬─────────────┬─────────────────┬────────────────────────┐\n",
       "│ image_uri                         ┆ image_label ┆ image_issues    ┆ object_labels          │\n",
       "│ ---                               ┆ ---         ┆ ---             ┆ ---                    │\n",
       "│ str                               ┆ str         ┆ list[struct[4]] ┆ list[struct[3]]        │\n",
       "╞═══════════════════════════════════╪═════════════╪═════════════════╪════════════════════════╡\n",
       "│ https://d2iycffepdu1yp.cloudfron… ┆ cat         ┆ null            ┆ [{\"cat\",[0, 16, …      │\n",
       "│                                   ┆             ┆                 ┆ 359],\"2fc62a2d…        │\n",
       "│ https://d2iycffepdu1yp.cloudfron… ┆ dog         ┆ null            ┆ [{\"dog\",[19, 16, …     │\n",
       "│                                   ┆             ┆                 ┆ 359],\"15951aa…         │\n",
       "│ https://d2iycffepdu1yp.cloudfron… ┆ dog         ┆ null            ┆ [{\"strap\",[133, 202, … │\n",
       "│                                   ┆             ┆                 ┆ 167],\"36d…             │\n",
       "│ https://d2iycffepdu1yp.cloudfron… ┆ cat         ┆ null            ┆ [{\"dog\",[48, 43, …     │\n",
       "│                                   ┆             ┆                 ┆ 337],\"4ebd514…         │\n",
       "│ …                                 ┆ …           ┆ …               ┆ …                      │\n",
       "│ https://d2iycffepdu1yp.cloudfron… ┆ dog         ┆ null            ┆ [{\"cat\",[31, 60, …     │\n",
       "│                                   ┆             ┆                 ┆ 417],\"f5a289b…         │\n",
       "│ https://d2iycffepdu1yp.cloudfron… ┆ cat         ┆ null            ┆ [{\"tank top\",[2, 1, …  │\n",
       "│                                   ┆             ┆                 ┆ 234],\"4474…            │\n",
       "│ https://d2iycffepdu1yp.cloudfron… ┆ dog         ┆ null            ┆ [{\"dog\",[3, 11, …      │\n",
       "│                                   ┆             ┆                 ┆ 270],\"898f2f00…        │\n",
       "│ https://d2iycffepdu1yp.cloudfron… ┆ dog         ┆ null            ┆ [{\"dog\",[15, 32, …     │\n",
       "│                                   ┆             ┆                 ┆ 241],\"b81e2b1…         │\n",
       "└───────────────────────────────────┴─────────────┴─────────────────┴────────────────────────┘"
      ]
     },
     "execution_count": 5,
     "metadata": {},
     "output_type": "execute_result"
    }
   ],
   "source": [
    "# df = vl._get_object_labels(dataset_id=dataset_id, pg_uri=VL_PG_URI)\n",
    "df = vl.get_dataset(dataset_id=dataset_id)\n",
    "df"
   ]
  },
  {
   "cell_type": "code",
   "execution_count": 6,
   "metadata": {},
   "outputs": [
    {
     "data": {
      "application/vnd.jupyter.widget-view+json": {
       "model_id": "af7a64708c1d4b9996185074a245a7a7",
       "version_major": 2,
       "version_minor": 0
      },
      "text/plain": [
       "Casting the dataset:   0%|          | 0/7384 [00:00<?, ? examples/s]"
      ]
     },
     "metadata": {},
     "output_type": "display_data"
    },
    {
     "name": "stderr",
     "output_type": "stream",
     "text": [
      "\u001b[32m2024-08-08 17:05:06.087\u001b[0m | \u001b[1mINFO    \u001b[0m | \u001b[36mvlhf.visual_layer\u001b[0m:\u001b[36mto_hf\u001b[0m:\u001b[36m76\u001b[0m - \u001b[1mPushing dataset to HF repository: dnth/pets-vl-enriched\u001b[0m\n"
     ]
    },
    {
     "data": {
      "application/vnd.jupyter.widget-view+json": {
       "model_id": "966c474af34d4174b902632cfbb53988",
       "version_major": 2,
       "version_minor": 0
      },
      "text/plain": [
       "Uploading the dataset shards:   0%|          | 0/1 [00:00<?, ?it/s]"
      ]
     },
     "metadata": {},
     "output_type": "display_data"
    },
    {
     "data": {
      "application/vnd.jupyter.widget-view+json": {
       "model_id": "93cbf5f282a54aa0932fd169e699fdb7",
       "version_major": 2,
       "version_minor": 0
      },
      "text/plain": [
       "Creating parquet from Arrow format:   0%|          | 0/8 [00:00<?, ?ba/s]"
      ]
     },
     "metadata": {},
     "output_type": "display_data"
    },
    {
     "data": {
      "application/vnd.jupyter.widget-view+json": {
       "model_id": "149e98da08f84aae97c974cbbd521537",
       "version_major": 2,
       "version_minor": 0
      },
      "text/plain": [
       "README.md:   0%|          | 0.00/687 [00:00<?, ?B/s]"
      ]
     },
     "metadata": {},
     "output_type": "display_data"
    },
    {
     "name": "stderr",
     "output_type": "stream",
     "text": [
      "No files have been modified since last commit. Skipping to prevent empty commit.\n"
     ]
    }
   ],
   "source": [
    "vl.to_hf(hf, hf_repo_id, df)"
   ]
  },
  {
   "cell_type": "code",
   "execution_count": null,
   "metadata": {},
   "outputs": [],
   "source": []
  }
 ],
 "metadata": {
  "kernelspec": {
   "display_name": "vl-hf-workflow",
   "language": "python",
   "name": "python3"
  },
  "language_info": {
   "codemirror_mode": {
    "name": "ipython",
    "version": 3
   },
   "file_extension": ".py",
   "mimetype": "text/x-python",
   "name": "python",
   "nbconvert_exporter": "python",
   "pygments_lexer": "ipython3",
   "version": "3.11.9"
  }
 },
 "nbformat": 4,
 "nbformat_minor": 2
}
