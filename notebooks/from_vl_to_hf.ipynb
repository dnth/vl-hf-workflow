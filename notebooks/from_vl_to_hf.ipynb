{
 "cells": [
  {
   "cell_type": "code",
   "execution_count": 1,
   "metadata": {},
   "outputs": [],
   "source": [
    "from vlhf.hugging_face import HuggingFace\n",
    "from vlhf.visual_layer import VisualLayer\n",
    "\n",
    "import os\n",
    "from dotenv import load_dotenv\n",
    "\n",
    "# Authentication\n",
    "load_dotenv()\n",
    "\n",
    "HF_TOKEN = os.getenv(\"HF_TOKEN\")\n",
    "VL_USER_ID = os.getenv(\"VL_USER_ID\")\n",
    "VL_ENV = os.getenv(\"VL_ENV\")\n",
    "VL_PG_URI = os.getenv(\"VL_PG_URI\")\n",
    "\n",
    "hf = HuggingFace(HF_TOKEN)\n",
    "vl = VisualLayer(VL_USER_ID, VL_ENV)"
   ]
  },
  {
   "cell_type": "code",
   "execution_count": 2,
   "metadata": {},
   "outputs": [
    {
     "name": "stderr",
     "output_type": "stream",
     "text": [
      "\u001b[32m2024-08-05 17:09:04.361\u001b[0m | \u001b[1mINFO    \u001b[0m | \u001b[36mvlhf.visual_layer\u001b[0m:\u001b[36mget_dataset\u001b[0m:\u001b[36m60\u001b[0m - \u001b[1mFetching dataset: 124aa35a-4fd3-11ef-ab8c-7e1db6b41710\u001b[0m\n",
      "\u001b[32m2024-08-05 17:09:04.362\u001b[0m | \u001b[1mINFO    \u001b[0m | \u001b[36mvlhf.visual_layer\u001b[0m:\u001b[36m_get_labels\u001b[0m:\u001b[36m75\u001b[0m - \u001b[1mReading labels from database for dataset: 124aa35a-4fd3-11ef-ab8c-7e1db6b41710\u001b[0m\n",
      "\u001b[32m2024-08-05 17:09:09.886\u001b[0m | \u001b[1mINFO    \u001b[0m | \u001b[36mvlhf.visual_layer\u001b[0m:\u001b[36m_get_labels\u001b[0m:\u001b[36m81\u001b[0m - \u001b[1mRetrieved 3000 labels for dataset 124aa35a-4fd3-11ef-ab8c-7e1db6b41710\u001b[0m\n",
      "\u001b[32m2024-08-05 17:09:09.887\u001b[0m | \u001b[1mINFO    \u001b[0m | \u001b[36mvlhf.visual_layer\u001b[0m:\u001b[36m_get_images\u001b[0m:\u001b[36m91\u001b[0m - \u001b[1mReading images from database for dataset: 124aa35a-4fd3-11ef-ab8c-7e1db6b41710\u001b[0m\n",
      "\u001b[32m2024-08-05 17:09:14.221\u001b[0m | \u001b[1mINFO    \u001b[0m | \u001b[36mvlhf.visual_layer\u001b[0m:\u001b[36m_get_images\u001b[0m:\u001b[36m101\u001b[0m - \u001b[1mRetrieved and processed 3001 images for dataset 124aa35a-4fd3-11ef-ab8c-7e1db6b41710\u001b[0m\n",
      "\u001b[32m2024-08-05 17:09:14.221\u001b[0m | \u001b[1mINFO    \u001b[0m | \u001b[36mvlhf.visual_layer\u001b[0m:\u001b[36m_get_issues\u001b[0m:\u001b[36m111\u001b[0m - \u001b[1mFetching issues for dataset: 124aa35a-4fd3-11ef-ab8c-7e1db6b41710\u001b[0m\n",
      "\u001b[32m2024-08-05 17:09:17.333\u001b[0m | \u001b[1mINFO    \u001b[0m | \u001b[36mvlhf.visual_layer\u001b[0m:\u001b[36m_get_issues\u001b[0m:\u001b[36m116\u001b[0m - \u001b[1mRetrieved 102 issues for dataset 124aa35a-4fd3-11ef-ab8c-7e1db6b41710\u001b[0m\n"
     ]
    }
   ],
   "source": [
    "dataset_id = \"124aa35a-4fd3-11ef-ab8c-7e1db6b41710\"\n",
    "hf_repo_id = \"dnth/dog_food-vl-enriched\"\n",
    "\n",
    "vl_dataset = vl.get_dataset(dataset_id=dataset_id, pg_uri=VL_PG_URI)"
   ]
  },
  {
   "cell_type": "code",
   "execution_count": 4,
   "metadata": {},
   "outputs": [
    {
     "data": {
      "text/html": [
       "<div>\n",
       "<style scoped>\n",
       "    .dataframe tbody tr th:only-of-type {\n",
       "        vertical-align: middle;\n",
       "    }\n",
       "\n",
       "    .dataframe tbody tr th {\n",
       "        vertical-align: top;\n",
       "    }\n",
       "\n",
       "    .dataframe thead th {\n",
       "        text-align: right;\n",
       "    }\n",
       "</style>\n",
       "<table border=\"1\" class=\"dataframe\">\n",
       "  <thead>\n",
       "    <tr style=\"text-align: right;\">\n",
       "      <th></th>\n",
       "      <th>image_uri</th>\n",
       "      <th>label</th>\n",
       "      <th>issues</th>\n",
       "    </tr>\n",
       "  </thead>\n",
       "  <tbody>\n",
       "    <tr>\n",
       "      <th>0</th>\n",
       "      <td>https://d2iycffepdu1yp.cloudfront.net/124aa35a...</td>\n",
       "      <td>dog</td>\n",
       "      <td>None</td>\n",
       "    </tr>\n",
       "    <tr>\n",
       "      <th>1</th>\n",
       "      <td>https://d2iycffepdu1yp.cloudfront.net/124aa35a...</td>\n",
       "      <td>dog</td>\n",
       "      <td>None</td>\n",
       "    </tr>\n",
       "    <tr>\n",
       "      <th>2</th>\n",
       "      <td>https://d2iycffepdu1yp.cloudfront.net/124aa35a...</td>\n",
       "      <td>muffin</td>\n",
       "      <td>None</td>\n",
       "    </tr>\n",
       "    <tr>\n",
       "      <th>3</th>\n",
       "      <td>https://d2iycffepdu1yp.cloudfront.net/124aa35a...</td>\n",
       "      <td>chicken</td>\n",
       "      <td>None</td>\n",
       "    </tr>\n",
       "    <tr>\n",
       "      <th>4</th>\n",
       "      <td>https://d2iycffepdu1yp.cloudfront.net/124aa35a...</td>\n",
       "      <td>dog</td>\n",
       "      <td>None</td>\n",
       "    </tr>\n",
       "    <tr>\n",
       "      <th>...</th>\n",
       "      <td>...</td>\n",
       "      <td>...</td>\n",
       "      <td>...</td>\n",
       "    </tr>\n",
       "    <tr>\n",
       "      <th>2996</th>\n",
       "      <td>https://d2iycffepdu1yp.cloudfront.net/124aa35a...</td>\n",
       "      <td>muffin</td>\n",
       "      <td>None</td>\n",
       "    </tr>\n",
       "    <tr>\n",
       "      <th>2997</th>\n",
       "      <td>https://d2iycffepdu1yp.cloudfront.net/124aa35a...</td>\n",
       "      <td>muffin</td>\n",
       "      <td>None</td>\n",
       "    </tr>\n",
       "    <tr>\n",
       "      <th>2998</th>\n",
       "      <td>https://d2iycffepdu1yp.cloudfront.net/124aa35a...</td>\n",
       "      <td>muffin</td>\n",
       "      <td>None</td>\n",
       "    </tr>\n",
       "    <tr>\n",
       "      <th>2999</th>\n",
       "      <td>https://d2iycffepdu1yp.cloudfront.net/124aa35a...</td>\n",
       "      <td>chicken</td>\n",
       "      <td>None</td>\n",
       "    </tr>\n",
       "    <tr>\n",
       "      <th>3000</th>\n",
       "      <td>https://d2iycffepdu1yp.cloudfront.net/124aa35a...</td>\n",
       "      <td>None</td>\n",
       "      <td>[{'confidence': 0.98, 'description': None, 'is...</td>\n",
       "    </tr>\n",
       "  </tbody>\n",
       "</table>\n",
       "<p>3001 rows × 3 columns</p>\n",
       "</div>"
      ],
      "text/plain": [
       "                                              image_uri    label  \\\n",
       "0     https://d2iycffepdu1yp.cloudfront.net/124aa35a...      dog   \n",
       "1     https://d2iycffepdu1yp.cloudfront.net/124aa35a...      dog   \n",
       "2     https://d2iycffepdu1yp.cloudfront.net/124aa35a...   muffin   \n",
       "3     https://d2iycffepdu1yp.cloudfront.net/124aa35a...  chicken   \n",
       "4     https://d2iycffepdu1yp.cloudfront.net/124aa35a...      dog   \n",
       "...                                                 ...      ...   \n",
       "2996  https://d2iycffepdu1yp.cloudfront.net/124aa35a...   muffin   \n",
       "2997  https://d2iycffepdu1yp.cloudfront.net/124aa35a...   muffin   \n",
       "2998  https://d2iycffepdu1yp.cloudfront.net/124aa35a...   muffin   \n",
       "2999  https://d2iycffepdu1yp.cloudfront.net/124aa35a...  chicken   \n",
       "3000  https://d2iycffepdu1yp.cloudfront.net/124aa35a...     None   \n",
       "\n",
       "                                                 issues  \n",
       "0                                                  None  \n",
       "1                                                  None  \n",
       "2                                                  None  \n",
       "3                                                  None  \n",
       "4                                                  None  \n",
       "...                                                 ...  \n",
       "2996                                               None  \n",
       "2997                                               None  \n",
       "2998                                               None  \n",
       "2999                                               None  \n",
       "3000  [{'confidence': 0.98, 'description': None, 'is...  \n",
       "\n",
       "[3001 rows x 3 columns]"
      ]
     },
     "execution_count": 4,
     "metadata": {},
     "output_type": "execute_result"
    }
   ],
   "source": [
    "vl_dataset.to_pandas()"
   ]
  },
  {
   "cell_type": "code",
   "execution_count": null,
   "metadata": {},
   "outputs": [],
   "source": [
    "vl.to_hf(hf, hf_repo_id, vl_dataset)"
   ]
  }
 ],
 "metadata": {
  "kernelspec": {
   "display_name": "vl-hf-workflow",
   "language": "python",
   "name": "python3"
  },
  "language_info": {
   "codemirror_mode": {
    "name": "ipython",
    "version": 3
   },
   "file_extension": ".py",
   "mimetype": "text/x-python",
   "name": "python",
   "nbconvert_exporter": "python",
   "pygments_lexer": "ipython3",
   "version": "3.11.9"
  }
 },
 "nbformat": 4,
 "nbformat_minor": 2
}
