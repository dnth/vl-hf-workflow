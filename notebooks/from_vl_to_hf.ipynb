{
 "cells": [
  {
   "cell_type": "code",
   "execution_count": 1,
   "metadata": {},
   "outputs": [
    {
     "name": "stderr",
     "output_type": "stream",
     "text": [
      "\u001b[32m2024-08-06 13:30:16.076\u001b[0m | \u001b[1mINFO    \u001b[0m | \u001b[36mvlhf.hugging_face\u001b[0m:\u001b[36m__init__\u001b[0m:\u001b[36m35\u001b[0m - \u001b[1mHugging Face session created\u001b[0m\n",
      "\u001b[32m2024-08-06 13:30:16.077\u001b[0m | \u001b[1mINFO    \u001b[0m | \u001b[36mvlhf.visual_layer\u001b[0m:\u001b[36m__init__\u001b[0m:\u001b[36m20\u001b[0m - \u001b[1mVisual Layer session created\u001b[0m\n"
     ]
    }
   ],
   "source": [
    "from vlhf.hugging_face import HuggingFace\n",
    "from vlhf.visual_layer import VisualLayer\n",
    "\n",
    "import os\n",
    "from dotenv import load_dotenv\n",
    "\n",
    "# Authentication\n",
    "load_dotenv()\n",
    "\n",
    "HF_TOKEN = os.getenv(\"HF_TOKEN\")\n",
    "VL_USER_ID = os.getenv(\"VL_USER_ID\")\n",
    "VL_ENV = os.getenv(\"VL_ENV\")\n",
    "VL_PG_URI = os.getenv(\"VL_PG_URI\")\n",
    "\n",
    "hf = HuggingFace(HF_TOKEN)\n",
    "vl = VisualLayer(VL_USER_ID, VL_ENV)"
   ]
  },
  {
   "cell_type": "code",
   "execution_count": 2,
   "metadata": {},
   "outputs": [
    {
     "name": "stderr",
     "output_type": "stream",
     "text": [
      "\u001b[32m2024-08-06 13:30:16.081\u001b[0m | \u001b[1mINFO    \u001b[0m | \u001b[36mvlhf.visual_layer\u001b[0m:\u001b[36mget_dataset\u001b[0m:\u001b[36m66\u001b[0m - \u001b[1mFetching dataset: 124aa35a-4fd3-11ef-ab8c-7e1db6b41710\u001b[0m\n",
      "\u001b[32m2024-08-06 13:30:16.082\u001b[0m | \u001b[1mINFO    \u001b[0m | \u001b[36mvlhf.visual_layer\u001b[0m:\u001b[36m_get_labels\u001b[0m:\u001b[36m81\u001b[0m - \u001b[1mReading labels from database for dataset: 124aa35a-4fd3-11ef-ab8c-7e1db6b41710\u001b[0m\n",
      "\u001b[32m2024-08-06 13:30:21.489\u001b[0m | \u001b[1mINFO    \u001b[0m | \u001b[36mvlhf.visual_layer\u001b[0m:\u001b[36m_get_labels\u001b[0m:\u001b[36m87\u001b[0m - \u001b[1mRetrieved 3000 labels for dataset 124aa35a-4fd3-11ef-ab8c-7e1db6b41710\u001b[0m\n",
      "\u001b[32m2024-08-06 13:30:21.490\u001b[0m | \u001b[1mINFO    \u001b[0m | \u001b[36mvlhf.visual_layer\u001b[0m:\u001b[36m_get_images\u001b[0m:\u001b[36m97\u001b[0m - \u001b[1mReading images from database for dataset: 124aa35a-4fd3-11ef-ab8c-7e1db6b41710\u001b[0m\n",
      "\u001b[32m2024-08-06 13:30:25.867\u001b[0m | \u001b[1mINFO    \u001b[0m | \u001b[36mvlhf.visual_layer\u001b[0m:\u001b[36m_get_images\u001b[0m:\u001b[36m107\u001b[0m - \u001b[1mRetrieved and processed 3001 images for dataset 124aa35a-4fd3-11ef-ab8c-7e1db6b41710\u001b[0m\n",
      "\u001b[32m2024-08-06 13:30:25.868\u001b[0m | \u001b[1mINFO    \u001b[0m | \u001b[36mvlhf.visual_layer\u001b[0m:\u001b[36m_get_issues\u001b[0m:\u001b[36m117\u001b[0m - \u001b[1mFetching issues for dataset: 124aa35a-4fd3-11ef-ab8c-7e1db6b41710\u001b[0m\n",
      "\u001b[32m2024-08-06 13:30:29.046\u001b[0m | \u001b[1mINFO    \u001b[0m | \u001b[36mvlhf.visual_layer\u001b[0m:\u001b[36m_get_issues\u001b[0m:\u001b[36m123\u001b[0m - \u001b[1mRetrieved 102 issues for dataset 124aa35a-4fd3-11ef-ab8c-7e1db6b41710\u001b[0m\n"
     ]
    }
   ],
   "source": [
    "dataset_id = \"124aa35a-4fd3-11ef-ab8c-7e1db6b41710\"\n",
    "hf_repo_id = \"dnth/dog_food-vl-enriched\"\n",
    "\n",
    "vl_dataset = vl.get_dataset(dataset_id=dataset_id, pg_uri=VL_PG_URI)"
   ]
  },
  {
   "cell_type": "code",
   "execution_count": 3,
   "metadata": {},
   "outputs": [
    {
     "data": {
      "text/html": [
       "<div><style>\n",
       ".dataframe > thead > tr,\n",
       ".dataframe > tbody > tr {\n",
       "  text-align: right;\n",
       "  white-space: pre-wrap;\n",
       "}\n",
       "</style>\n",
       "<small>shape: (3_001, 3)</small><table border=\"1\" class=\"dataframe\"><thead><tr><th>image_uri</th><th>label</th><th>issues</th></tr><tr><td>str</td><td>str</td><td>list[struct[3]]</td></tr></thead><tbody><tr><td>&quot;https://d2iycf…</td><td>&quot;dog&quot;</td><td>null</td></tr><tr><td>&quot;https://d2iycf…</td><td>&quot;dog&quot;</td><td>null</td></tr><tr><td>&quot;https://d2iycf…</td><td>&quot;muffin&quot;</td><td>null</td></tr><tr><td>&quot;https://d2iycf…</td><td>&quot;chicken&quot;</td><td>null</td></tr><tr><td>&quot;https://d2iycf…</td><td>&quot;dog&quot;</td><td>null</td></tr><tr><td>&quot;https://d2iycf…</td><td>&quot;muffin&quot;</td><td>null</td></tr><tr><td>&quot;https://d2iycf…</td><td>&quot;muffin&quot;</td><td>null</td></tr><tr><td>&quot;https://d2iycf…</td><td>&quot;dog&quot;</td><td>null</td></tr><tr><td>&quot;https://d2iycf…</td><td>&quot;dog&quot;</td><td>null</td></tr><tr><td>&quot;https://d2iycf…</td><td>&quot;chicken&quot;</td><td>[{0.8117045,null,&quot;duplicates&quot;}]</td></tr><tr><td>&quot;https://d2iycf…</td><td>&quot;chicken&quot;</td><td>null</td></tr><tr><td>&quot;https://d2iycf…</td><td>&quot;dog&quot;</td><td>null</td></tr><tr><td>&hellip;</td><td>&hellip;</td><td>&hellip;</td></tr><tr><td>&quot;https://d2iycf…</td><td>&quot;dog&quot;</td><td>null</td></tr><tr><td>&quot;https://d2iycf…</td><td>&quot;chicken&quot;</td><td>null</td></tr><tr><td>&quot;https://d2iycf…</td><td>&quot;dog&quot;</td><td>null</td></tr><tr><td>&quot;https://d2iycf…</td><td>&quot;muffin&quot;</td><td>null</td></tr><tr><td>&quot;https://d2iycf…</td><td>&quot;chicken&quot;</td><td>null</td></tr><tr><td>&quot;https://d2iycf…</td><td>&quot;chicken&quot;</td><td>null</td></tr><tr><td>&quot;https://d2iycf…</td><td>&quot;muffin&quot;</td><td>null</td></tr><tr><td>&quot;https://d2iycf…</td><td>&quot;muffin&quot;</td><td>null</td></tr><tr><td>&quot;https://d2iycf…</td><td>&quot;muffin&quot;</td><td>null</td></tr><tr><td>&quot;https://d2iycf…</td><td>&quot;muffin&quot;</td><td>null</td></tr><tr><td>&quot;https://d2iycf…</td><td>&quot;chicken&quot;</td><td>null</td></tr><tr><td>&quot;https://d2iycf…</td><td>null</td><td>[{0.98,null,&quot;duplicates&quot;}]</td></tr></tbody></table></div>"
      ],
      "text/plain": [
       "shape: (3_001, 3)\n",
       "┌───────────────────────────────────┬─────────┬────────────────────────────┐\n",
       "│ image_uri                         ┆ label   ┆ issues                     │\n",
       "│ ---                               ┆ ---     ┆ ---                        │\n",
       "│ str                               ┆ str     ┆ list[struct[3]]            │\n",
       "╞═══════════════════════════════════╪═════════╪════════════════════════════╡\n",
       "│ https://d2iycffepdu1yp.cloudfron… ┆ dog     ┆ null                       │\n",
       "│ https://d2iycffepdu1yp.cloudfron… ┆ dog     ┆ null                       │\n",
       "│ https://d2iycffepdu1yp.cloudfron… ┆ muffin  ┆ null                       │\n",
       "│ https://d2iycffepdu1yp.cloudfron… ┆ chicken ┆ null                       │\n",
       "│ …                                 ┆ …       ┆ …                          │\n",
       "│ https://d2iycffepdu1yp.cloudfron… ┆ muffin  ┆ null                       │\n",
       "│ https://d2iycffepdu1yp.cloudfron… ┆ muffin  ┆ null                       │\n",
       "│ https://d2iycffepdu1yp.cloudfron… ┆ chicken ┆ null                       │\n",
       "│ https://d2iycffepdu1yp.cloudfron… ┆ null    ┆ [{0.98,null,\"duplicates\"}] │\n",
       "└───────────────────────────────────┴─────────┴────────────────────────────┘"
      ]
     },
     "execution_count": 3,
     "metadata": {},
     "output_type": "execute_result"
    }
   ],
   "source": [
    "vl_dataset"
   ]
  },
  {
   "cell_type": "code",
   "execution_count": 4,
   "metadata": {},
   "outputs": [
    {
     "data": {
      "application/vnd.jupyter.widget-view+json": {
       "model_id": "26d1b311aaef4e13b836e4e80ea19803",
       "version_major": 2,
       "version_minor": 0
      },
      "text/plain": [
       "Casting the dataset:   0%|          | 0/3001 [00:00<?, ? examples/s]"
      ]
     },
     "metadata": {},
     "output_type": "display_data"
    },
    {
     "name": "stderr",
     "output_type": "stream",
     "text": [
      "\u001b[32m2024-08-06 13:30:32.330\u001b[0m | \u001b[1mINFO    \u001b[0m | \u001b[36mvlhf.visual_layer\u001b[0m:\u001b[36mto_hf\u001b[0m:\u001b[36m62\u001b[0m - \u001b[1mPushing dataset to HF repository: dnth/dog_food-vl-enriched\u001b[0m\n"
     ]
    },
    {
     "data": {
      "application/vnd.jupyter.widget-view+json": {
       "model_id": "1f55340619384cbe9c081497043244f7",
       "version_major": 2,
       "version_minor": 0
      },
      "text/plain": [
       "Uploading the dataset shards:   0%|          | 0/1 [00:00<?, ?it/s]"
      ]
     },
     "metadata": {},
     "output_type": "display_data"
    },
    {
     "data": {
      "application/vnd.jupyter.widget-view+json": {
       "model_id": "0813cacadbbf4dd8bbdac1712adb0e15",
       "version_major": 2,
       "version_minor": 0
      },
      "text/plain": [
       "Creating parquet from Arrow format:   0%|          | 0/4 [00:00<?, ?ba/s]"
      ]
     },
     "metadata": {},
     "output_type": "display_data"
    },
    {
     "name": "stderr",
     "output_type": "stream",
     "text": [
      "No files have been modified since last commit. Skipping to prevent empty commit.\n"
     ]
    }
   ],
   "source": [
    "vl.to_hf(hf, hf_repo_id, vl_dataset)"
   ]
  },
  {
   "cell_type": "code",
   "execution_count": null,
   "metadata": {},
   "outputs": [],
   "source": []
  }
 ],
 "metadata": {
  "kernelspec": {
   "display_name": "vl-hf-workflow",
   "language": "python",
   "name": "python3"
  },
  "language_info": {
   "codemirror_mode": {
    "name": "ipython",
    "version": 3
   },
   "file_extension": ".py",
   "mimetype": "text/x-python",
   "name": "python",
   "nbconvert_exporter": "python",
   "pygments_lexer": "ipython3",
   "version": "3.11.9"
  }
 },
 "nbformat": 4,
 "nbformat_minor": 2
}
